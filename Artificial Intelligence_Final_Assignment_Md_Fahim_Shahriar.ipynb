{
  "cells": [
    {
      "cell_type": "markdown",
      "source": [
        "For the Final Assignment you will consider the **AMEO - Aspiring Minds' Employment Outcomes 2015 dataset**. You can download it from https://zenodo.org/records/45735..  \n",
        "\n",
        "The dataset contains various information about a set of engineering candidates and their employment outcomes in India. For every candidate, the data contains both the profile information along with their employment outcome information.\n",
        "Candidate Profile Information include:\n",
        "\n",
        "1.   Scores on Aspiring Minds’ AMCAT – a standardized test of job skills. The test includes cognitive, domain and personality assessments\n",
        "2.   Personal information like gender, date of birth, etc.\n",
        "3. Pre-university information like high school grades, high school location\n",
        "4. University information like GPA, college major, college reputation proxy\n",
        "5. Demographic information like location of college, candidates’ permanent location.\n",
        "\n",
        "Employment Outcome Information include:\n",
        "\n",
        "\n",
        "1. First job annual salary\n",
        "2. First job title\n",
        "3. First job location\n",
        "\n",
        "This is the only data set where we have employment outcomes together with scores on a standardized job test, which makes this very unique. Other such data sets either do not test scores at all or scores on pre-university tests.\n",
        "\n",
        "**Your Task**\n",
        "\n",
        "Your task is to construct machine learning models (using Scikit Learn) to predict the annual job salary.\n",
        "You should compare a couple of models that you prefer and use as features only the ones that seem relevant ones. The model(s) should be trained on the training data and you should report the performance of the model on the test data.\n",
        "You should check for missing data and other anomalies in the dataset.\n",
        "*Bonus credits will be given if you can report which features are the best predictors of the First job annual salary.*\n",
        "\n",
        "***Follow this notebook step by step to complete your assignment.***"
      ],
      "metadata": {
        "id": "V-hYUt6v2lV4"
      }
    },
    {
      "cell_type": "code",
      "source": [],
      "metadata": {
        "id": "oUXwWKx1z02j"
      },
      "execution_count": null,
      "outputs": []
    },
    {
      "cell_type": "markdown",
      "metadata": {
        "id": "dTGKbyo61rk8"
      },
      "source": [
        "#### **Import Libraries**\n",
        "\n",
        "Import libraries that will be used in this notebook.\n"
      ]
    },
    {
      "cell_type": "code",
      "execution_count": null,
      "metadata": {
        "id": "yuyzatF21rk-"
      },
      "outputs": [],
      "source": [
        "# write your code\n",
        "import pandas as pd\n",
        "import numpy as np\n",
        "import seaborn as sns\n",
        "import matplotlib.pyplot as plt\n"
      ]
    },
    {
      "cell_type": "markdown",
      "metadata": {
        "id": "Sw9mKdBs1rk-"
      },
      "source": [
        "#### **Load Data**\n",
        "\n",
        "Load the training dataset downloaded from [zenodo](https://zenodo.org/records/45735) and display the first few rows, and list the columns.\n"
      ]
    },
    {
      "cell_type": "code",
      "execution_count": null,
      "metadata": {
        "id": "YOAwMmUU1rk-",
        "colab": {
          "base_uri": "https://localhost:8080/"
        },
        "outputId": "e5681dd6-7c5f-438e-9456-025f24c85dd4"
      },
      "outputs": [
        {
          "output_type": "stream",
          "name": "stdout",
          "text": [
            "  Unnamed: 0      ID   Salary        DOJ                  DOL  \\\n",
            "0      train  203097   420000 2012-06-01              present   \n",
            "1      train  579905   500000 2013-09-01              present   \n",
            "2      train  810601   325000 2014-06-01              present   \n",
            "3      train  267447  1100000 2011-07-01              present   \n",
            "4      train  343523   200000 2014-03-01  2015-03-01 00:00:00   \n",
            "\n",
            "                Designation    JobCity Gender        DOB  10percentage  ...  \\\n",
            "0   senior quality engineer  Bangalore      f 1990-02-19          84.3  ...   \n",
            "1         assistant manager     Indore      m 1989-10-04          85.4  ...   \n",
            "2          systems engineer    Chennai      f 1992-08-03          85.0  ...   \n",
            "3  senior software engineer    Gurgaon      m 1989-12-05          85.6  ...   \n",
            "4                       get    Manesar      m 1991-02-27          78.0  ...   \n",
            "\n",
            "  ComputerScience  MechanicalEngg  ElectricalEngg TelecomEngg  CivilEngg  \\\n",
            "0              -1              -1              -1          -1         -1   \n",
            "1              -1              -1              -1          -1         -1   \n",
            "2              -1              -1              -1          -1         -1   \n",
            "3              -1              -1              -1          -1         -1   \n",
            "4              -1              -1              -1          -1         -1   \n",
            "\n",
            "   conscientiousness agreeableness extraversion  nueroticism  \\\n",
            "0             0.9737        0.8128       0.5269      1.35490   \n",
            "1            -0.7335        0.3789       1.2396     -0.10760   \n",
            "2             0.2718        1.7109       0.1637     -0.86820   \n",
            "3             0.0464        0.3448      -0.3440     -0.40780   \n",
            "4            -0.8810       -0.2793      -1.0697      0.09163   \n",
            "\n",
            "   openess_to_experience  \n",
            "0                -0.4455  \n",
            "1                 0.8637  \n",
            "2                 0.6721  \n",
            "3                -0.9194  \n",
            "4                -0.1295  \n",
            "\n",
            "[5 rows x 39 columns]\n",
            "Unnamed: 0\n",
            "ID\n",
            "Salary\n",
            "DOJ\n",
            "DOL\n",
            "Designation\n",
            "JobCity\n",
            "Gender\n",
            "DOB\n",
            "10percentage\n",
            "10board\n",
            "12graduation\n",
            "12percentage\n",
            "12board\n",
            "CollegeID\n",
            "CollegeTier\n",
            "Degree\n",
            "Specialization\n",
            "collegeGPA\n",
            "CollegeCityID\n",
            "CollegeCityTier\n",
            "CollegeState\n",
            "GraduationYear\n",
            "English\n",
            "Logical\n",
            "Quant\n",
            "Domain\n",
            "ComputerProgramming\n",
            "ElectronicsAndSemicon\n",
            "ComputerScience\n",
            "MechanicalEngg\n",
            "ElectricalEngg\n",
            "TelecomEngg\n",
            "CivilEngg\n",
            "conscientiousness\n",
            "agreeableness\n",
            "extraversion\n",
            "nueroticism\n",
            "openess_to_experience\n"
          ]
        }
      ],
      "source": [
        "# write your code\n",
        "data_train = pd.read_excel('/content/train.xlsx')\n",
        "print(data_train.head(5))\n",
        "\n",
        "column_names = data_train.columns.tolist()\n",
        "print(*column_names, sep=\"\\n\")"
      ]
    },
    {
      "cell_type": "markdown",
      "metadata": {
        "id": "rFsE06zN1rk_"
      },
      "source": [
        "Do the same for the test dataset.\n"
      ]
    },
    {
      "cell_type": "code",
      "execution_count": null,
      "metadata": {
        "id": "_HJnOaCv1rk_",
        "colab": {
          "base_uri": "https://localhost:8080/"
        },
        "outputId": "21251625-3948-4301-de9b-79989e13b0b9"
      },
      "outputs": [
        {
          "output_type": "stream",
          "name": "stdout",
          "text": [
            "  Unnamed: 0       ID Salary DOJ DOL Designation JobCity Gender        DOB  \\\n",
            "0       test   664736      ?   ?   ?           ?       ?      m 1992-01-16   \n",
            "1       test  1123290      ?   ?   ?           ?       ?      m 1992-06-05   \n",
            "2       test  1062444      ?   ?   ?           ?       ?      f 1992-11-22   \n",
            "3       test  1072028      ?   ?   ?           ?       ?      f 1990-10-17   \n",
            "4       test   267259      ?   ?   ?           ?       ?      m 1990-03-20   \n",
            "\n",
            "   10percentage  ... ComputerScience  MechanicalEngg  ElectricalEngg  \\\n",
            "0          75.0  ...              -1              -1              -1   \n",
            "1          83.0  ...             253              -1              -1   \n",
            "2          85.2  ...              -1              -1              -1   \n",
            "3          81.8  ...             469              -1              -1   \n",
            "4          78.0  ...              -1              -1              -1   \n",
            "\n",
            "  TelecomEngg  CivilEngg  conscientiousness agreeableness extraversion  \\\n",
            "0          -1         -1             0.2718       -0.2871       0.4711   \n",
            "1          -1         -1             0.7027        0.2124       1.2396   \n",
            "2          -1         -1             0.1282        1.0449      -0.6048   \n",
            "3          -1         -1             0.4155        1.0449      -0.6048   \n",
            "4          -1         -1             0.0464        0.0328      -0.0537   \n",
            "\n",
            "   nueroticism  openess_to_experience  \n",
            "0      -0.7415                -0.4776  \n",
            "1      -0.8682                 1.0554  \n",
            "2      -1.6289                -0.8608  \n",
            "3       1.5404                 1.0554  \n",
            "4       0.0623                 0.6603  \n",
            "\n",
            "[5 rows x 39 columns]\n",
            "Unnamed: 0\n",
            "ID\n",
            "Salary\n",
            "DOJ\n",
            "DOL\n",
            "Designation\n",
            "JobCity\n",
            "Gender\n",
            "DOB\n",
            "10percentage\n",
            "10board\n",
            "12graduation\n",
            "12percentage\n",
            "12board\n",
            "CollegeID\n",
            "CollegeTier\n",
            "Degree\n",
            "Specialization\n",
            "collegeGPA\n",
            "CollegeCityID\n",
            "CollegeCityTier\n",
            "CollegeState\n",
            "GraduationYear\n",
            "English\n",
            "Logical\n",
            "Quant\n",
            "Domain\n",
            "ComputerProgramming\n",
            "ElectronicsAndSemicon\n",
            "ComputerScience\n",
            "MechanicalEngg\n",
            "ElectricalEngg\n",
            "TelecomEngg\n",
            "CivilEngg\n",
            "conscientiousness\n",
            "agreeableness\n",
            "extraversion\n",
            "nueroticism\n",
            "openess_to_experience\n"
          ]
        }
      ],
      "source": [
        "# write your code\n",
        "data2_test = pd.read_excel('/content/test.xlsx')\n",
        "print(data2_test.head(5))\n",
        "\n",
        "column_names2 = data2_test.columns.tolist()\n",
        "print(*column_names2, sep='\\n')"
      ]
    },
    {
      "cell_type": "markdown",
      "metadata": {
        "id": "n0kaNevR1rk_"
      },
      "source": [
        "#### **Data Cleaning**\n",
        "\n",
        "Form the training and test datasets, we can see we have a 'Unnamed: 0' column which is not required in the dataset. We will drop this column from the dataset. Also, test dataset does not have values for the 'Salary', 'DOJ', 'DOL', 'Designation', and 'JobCity' columns. We will drop these columns except 'Salary' from the training dataset as 'Salary' is the target variable. Do the same for the test dataset.\n"
      ]
    },
    {
      "cell_type": "code",
      "source": [
        "# write your code\n",
        "# write your code\n",
        "data_train.drop(['Unnamed: 0', 'DOJ', 'DOL', 'Designation', 'JobCity'], axis=1, inplace=True)\n",
        "data2_test.drop(['Unnamed: 0', 'DOJ', 'DOL', 'Designation', 'JobCity'], axis=1, inplace=True)\n",
        "\n",
        "print(\"The Cleaned Training Data set:\\n\",data_train.head(5))\n",
        "print()\n",
        "print(\"The Cleaned Test Data set: \\n\", data2_test.head(5))"
      ],
      "metadata": {
        "colab": {
          "base_uri": "https://localhost:8080/"
        },
        "id": "qsycKjah7o5e",
        "outputId": "86a1af48-4951-4be9-ae2b-0b5d0c78f005"
      },
      "execution_count": null,
      "outputs": [
        {
          "output_type": "stream",
          "name": "stdout",
          "text": [
            "The Cleaned Training Data set:\n",
            "        ID   Salary Gender        DOB  10percentage  \\\n",
            "0  203097   420000      f 1990-02-19          84.3   \n",
            "1  579905   500000      m 1989-10-04          85.4   \n",
            "2  810601   325000      f 1992-08-03          85.0   \n",
            "3  267447  1100000      m 1989-12-05          85.6   \n",
            "4  343523   200000      m 1991-02-27          78.0   \n",
            "\n",
            "                          10board  12graduation  12percentage  \\\n",
            "0  board ofsecondary education,ap          2007          95.8   \n",
            "1                            cbse          2007          85.0   \n",
            "2                            cbse          2010          68.2   \n",
            "3                            cbse          2007          83.6   \n",
            "4                            cbse          2008          76.8   \n",
            "\n",
            "                              12board  CollegeID  ...  ComputerScience  \\\n",
            "0  board of intermediate education,ap       1141  ...               -1   \n",
            "1                                cbse       5807  ...               -1   \n",
            "2                                cbse         64  ...               -1   \n",
            "3                                cbse       6920  ...               -1   \n",
            "4                                cbse      11368  ...               -1   \n",
            "\n",
            "  MechanicalEngg ElectricalEngg  TelecomEngg  CivilEngg  conscientiousness  \\\n",
            "0             -1             -1           -1         -1             0.9737   \n",
            "1             -1             -1           -1         -1            -0.7335   \n",
            "2             -1             -1           -1         -1             0.2718   \n",
            "3             -1             -1           -1         -1             0.0464   \n",
            "4             -1             -1           -1         -1            -0.8810   \n",
            "\n",
            "  agreeableness  extraversion  nueroticism  openess_to_experience  \n",
            "0        0.8128        0.5269      1.35490                -0.4455  \n",
            "1        0.3789        1.2396     -0.10760                 0.8637  \n",
            "2        1.7109        0.1637     -0.86820                 0.6721  \n",
            "3        0.3448       -0.3440     -0.40780                -0.9194  \n",
            "4       -0.2793       -1.0697      0.09163                -0.1295  \n",
            "\n",
            "[5 rows x 34 columns]\n",
            "\n",
            "The Cleaned Test Data set: \n",
            "         ID Salary Gender        DOB  10percentage      10board  12graduation  \\\n",
            "0   664736      ?      m 1992-01-16          75.0         cbse          2009   \n",
            "1  1123290      ?      m 1992-06-05          83.0  state board          2009   \n",
            "2  1062444      ?      f 1992-11-22          85.2         cbse          2010   \n",
            "3  1072028      ?      f 1990-10-17          81.8  state board          2010   \n",
            "4   267259      ?      m 1990-03-20          78.0         cbse          2007   \n",
            "\n",
            "   12percentage      12board  CollegeID  ...  ComputerScience MechanicalEngg  \\\n",
            "0          74.0         cbse      13478  ...               -1             -1   \n",
            "1          75.0  state board         65  ...              253             -1   \n",
            "2          91.4  state board       3505  ...               -1             -1   \n",
            "3          80.8  state board       3931  ...              469             -1   \n",
            "4          78.0         cbse       7564  ...               -1             -1   \n",
            "\n",
            "  ElectricalEngg  TelecomEngg  CivilEngg  conscientiousness agreeableness  \\\n",
            "0             -1           -1         -1             0.2718       -0.2871   \n",
            "1             -1           -1         -1             0.7027        0.2124   \n",
            "2             -1           -1         -1             0.1282        1.0449   \n",
            "3             -1           -1         -1             0.4155        1.0449   \n",
            "4             -1           -1         -1             0.0464        0.0328   \n",
            "\n",
            "   extraversion  nueroticism  openess_to_experience  \n",
            "0        0.4711      -0.7415                -0.4776  \n",
            "1        1.2396      -0.8682                 1.0554  \n",
            "2       -0.6048      -1.6289                -0.8608  \n",
            "3       -0.6048       1.5404                 1.0554  \n",
            "4       -0.0537       0.0623                 0.6603  \n",
            "\n",
            "[5 rows x 34 columns]\n"
          ]
        }
      ]
    },
    {
      "cell_type": "markdown",
      "metadata": {
        "id": "wsdeFhVc1rk_"
      },
      "source": [
        "Also columns like '10board', '12board', 'CollegeID', 'CollegeTier', 'CollegeCityID', 'CollegeCityTier', and 'CollegeState' may not be a good predictor for the salary. We will drop these columns as well from the training and test datasets.\n",
        "[Note: You can obiously try to include these columns and see if it improves the model performance]\n"
      ]
    },
    {
      "cell_type": "code",
      "execution_count": null,
      "metadata": {
        "id": "5zlfyov61rk_",
        "colab": {
          "base_uri": "https://localhost:8080/"
        },
        "outputId": "ed93ab36-7e9e-4ffd-b70e-a13bd69a89aa"
      },
      "outputs": [
        {
          "output_type": "stream",
          "name": "stdout",
          "text": [
            "The Cleaned Training Data set:\n",
            "        ID   Salary Gender        DOB  10percentage  12graduation  \\\n",
            "0  203097   420000      f 1990-02-19          84.3          2007   \n",
            "1  579905   500000      m 1989-10-04          85.4          2007   \n",
            "2  810601   325000      f 1992-08-03          85.0          2010   \n",
            "3  267447  1100000      m 1989-12-05          85.6          2007   \n",
            "4  343523   200000      m 1991-02-27          78.0          2008   \n",
            "\n",
            "   12percentage       Degree                             Specialization  \\\n",
            "0          95.8  B.Tech/B.E.                       computer engineering   \n",
            "1          85.0  B.Tech/B.E.  electronics and communication engineering   \n",
            "2          68.2  B.Tech/B.E.                     information technology   \n",
            "3          83.6  B.Tech/B.E.                       computer engineering   \n",
            "4          76.8  B.Tech/B.E.  electronics and communication engineering   \n",
            "\n",
            "   collegeGPA  ...  ComputerScience  MechanicalEngg  ElectricalEngg  \\\n",
            "0       78.00  ...               -1              -1              -1   \n",
            "1       70.06  ...               -1              -1              -1   \n",
            "2       70.00  ...               -1              -1              -1   \n",
            "3       74.64  ...               -1              -1              -1   \n",
            "4       73.90  ...               -1              -1              -1   \n",
            "\n",
            "   TelecomEngg  CivilEngg  conscientiousness  agreeableness  extraversion  \\\n",
            "0           -1         -1             0.9737         0.8128        0.5269   \n",
            "1           -1         -1            -0.7335         0.3789        1.2396   \n",
            "2           -1         -1             0.2718         1.7109        0.1637   \n",
            "3           -1         -1             0.0464         0.3448       -0.3440   \n",
            "4           -1         -1            -0.8810        -0.2793       -1.0697   \n",
            "\n",
            "   nueroticism  openess_to_experience  \n",
            "0      1.35490                -0.4455  \n",
            "1     -0.10760                 0.8637  \n",
            "2     -0.86820                 0.6721  \n",
            "3     -0.40780                -0.9194  \n",
            "4      0.09163                -0.1295  \n",
            "\n",
            "[5 rows x 27 columns]\n",
            "\n",
            "The Cleaned Test Data set: \n",
            "         ID Salary Gender        DOB  10percentage  12graduation  12percentage  \\\n",
            "0   664736      ?      m 1992-01-16          75.0          2009          74.0   \n",
            "1  1123290      ?      m 1992-06-05          83.0          2009          75.0   \n",
            "2  1062444      ?      f 1992-11-22          85.2          2010          91.4   \n",
            "3  1072028      ?      f 1990-10-17          81.8          2010          80.8   \n",
            "4   267259      ?      m 1990-03-20          78.0          2007          78.0   \n",
            "\n",
            "        Degree                             Specialization  collegeGPA  ...  \\\n",
            "0  B.Tech/B.E.  electronics and communication engineering       67.20  ...   \n",
            "1  B.Tech/B.E.                     information technology       71.10  ...   \n",
            "2  B.Tech/B.E.                     information technology       80.50  ...   \n",
            "3  B.Tech/B.E.                     information technology       70.38  ...   \n",
            "4  B.Tech/B.E.                       computer engineering       71.00  ...   \n",
            "\n",
            "   ComputerScience  MechanicalEngg  ElectricalEngg  TelecomEngg  CivilEngg  \\\n",
            "0               -1              -1              -1           -1         -1   \n",
            "1              253              -1              -1           -1         -1   \n",
            "2               -1              -1              -1           -1         -1   \n",
            "3              469              -1              -1           -1         -1   \n",
            "4               -1              -1              -1           -1         -1   \n",
            "\n",
            "   conscientiousness  agreeableness  extraversion  nueroticism  \\\n",
            "0             0.2718        -0.2871        0.4711      -0.7415   \n",
            "1             0.7027         0.2124        1.2396      -0.8682   \n",
            "2             0.1282         1.0449       -0.6048      -1.6289   \n",
            "3             0.4155         1.0449       -0.6048       1.5404   \n",
            "4             0.0464         0.0328       -0.0537       0.0623   \n",
            "\n",
            "   openess_to_experience  \n",
            "0                -0.4776  \n",
            "1                 1.0554  \n",
            "2                -0.8608  \n",
            "3                 1.0554  \n",
            "4                 0.6603  \n",
            "\n",
            "[5 rows x 27 columns]\n"
          ]
        }
      ],
      "source": [
        "# write your code\n",
        "data_train.drop(['10board', '12board', 'CollegeID', 'CollegeTier', 'CollegeCityID', 'CollegeCityTier', 'CollegeState' ], axis=1, inplace=True)\n",
        "data2_test.drop(['10board', '12board', 'CollegeID', 'CollegeTier', 'CollegeCityID', 'CollegeCityTier', 'CollegeState'], axis=1, inplace=True)\n",
        "\n",
        "print(\"The Cleaned Training Data set:\\n\",data_train.head(5))\n",
        "print()\n",
        "print(\"The Cleaned Test Data set: \\n\", data2_test.head(5))"
      ]
    },
    {
      "cell_type": "markdown",
      "metadata": {
        "id": "Di8pCb-U1rk_"
      },
      "source": [
        "You can make the 'ID' column as the index for the training and test datasets as it is unique for each row. Use the 'set_index' method to do this.\n",
        "[Note: This is not mandatory, you can simply drop the 'ID' column as well]\n"
      ]
    },
    {
      "cell_type": "code",
      "execution_count": null,
      "metadata": {
        "id": "hORC2ccm1rk_",
        "colab": {
          "base_uri": "https://localhost:8080/"
        },
        "outputId": "f7322059-6296-4975-ac41-7285d7b70800"
      },
      "outputs": [
        {
          "output_type": "stream",
          "name": "stdout",
          "text": [
            "The Cleaned Training Data set:\n",
            "          Salary Gender        DOB  10percentage  12graduation  12percentage  \\\n",
            "ID                                                                            \n",
            "203097   420000      f 1990-02-19          84.3          2007          95.8   \n",
            "579905   500000      m 1989-10-04          85.4          2007          85.0   \n",
            "810601   325000      f 1992-08-03          85.0          2010          68.2   \n",
            "267447  1100000      m 1989-12-05          85.6          2007          83.6   \n",
            "343523   200000      m 1991-02-27          78.0          2008          76.8   \n",
            "\n",
            "             Degree                             Specialization  collegeGPA  \\\n",
            "ID                                                                           \n",
            "203097  B.Tech/B.E.                       computer engineering       78.00   \n",
            "579905  B.Tech/B.E.  electronics and communication engineering       70.06   \n",
            "810601  B.Tech/B.E.                     information technology       70.00   \n",
            "267447  B.Tech/B.E.                       computer engineering       74.64   \n",
            "343523  B.Tech/B.E.  electronics and communication engineering       73.90   \n",
            "\n",
            "        GraduationYear  ...  ComputerScience  MechanicalEngg  ElectricalEngg  \\\n",
            "ID                      ...                                                    \n",
            "203097            2011  ...               -1              -1              -1   \n",
            "579905            2012  ...               -1              -1              -1   \n",
            "810601            2014  ...               -1              -1              -1   \n",
            "267447            2011  ...               -1              -1              -1   \n",
            "343523            2012  ...               -1              -1              -1   \n",
            "\n",
            "        TelecomEngg  CivilEngg  conscientiousness  agreeableness  \\\n",
            "ID                                                                 \n",
            "203097           -1         -1             0.9737         0.8128   \n",
            "579905           -1         -1            -0.7335         0.3789   \n",
            "810601           -1         -1             0.2718         1.7109   \n",
            "267447           -1         -1             0.0464         0.3448   \n",
            "343523           -1         -1            -0.8810        -0.2793   \n",
            "\n",
            "        extraversion  nueroticism  openess_to_experience  \n",
            "ID                                                        \n",
            "203097        0.5269      1.35490                -0.4455  \n",
            "579905        1.2396     -0.10760                 0.8637  \n",
            "810601        0.1637     -0.86820                 0.6721  \n",
            "267447       -0.3440     -0.40780                -0.9194  \n",
            "343523       -1.0697      0.09163                -0.1295  \n",
            "\n",
            "[5 rows x 26 columns]\n",
            "\n",
            "The Cleaned Test Data set: \n",
            "         Salary Gender        DOB  10percentage  12graduation  12percentage  \\\n",
            "ID                                                                           \n",
            "664736       ?      m 1992-01-16          75.0          2009          74.0   \n",
            "1123290      ?      m 1992-06-05          83.0          2009          75.0   \n",
            "1062444      ?      f 1992-11-22          85.2          2010          91.4   \n",
            "1072028      ?      f 1990-10-17          81.8          2010          80.8   \n",
            "267259       ?      m 1990-03-20          78.0          2007          78.0   \n",
            "\n",
            "              Degree                             Specialization  collegeGPA  \\\n",
            "ID                                                                            \n",
            "664736   B.Tech/B.E.  electronics and communication engineering       67.20   \n",
            "1123290  B.Tech/B.E.                     information technology       71.10   \n",
            "1062444  B.Tech/B.E.                     information technology       80.50   \n",
            "1072028  B.Tech/B.E.                     information technology       70.38   \n",
            "267259   B.Tech/B.E.                       computer engineering       71.00   \n",
            "\n",
            "         GraduationYear  ...  ComputerScience  MechanicalEngg  ElectricalEngg  \\\n",
            "ID                       ...                                                    \n",
            "664736             2013  ...               -1              -1              -1   \n",
            "1123290            2014  ...              253              -1              -1   \n",
            "1062444            2014  ...               -1              -1              -1   \n",
            "1072028            2014  ...              469              -1              -1   \n",
            "267259             2011  ...               -1              -1              -1   \n",
            "\n",
            "         TelecomEngg  CivilEngg  conscientiousness  agreeableness  \\\n",
            "ID                                                                  \n",
            "664736            -1         -1             0.2718        -0.2871   \n",
            "1123290           -1         -1             0.7027         0.2124   \n",
            "1062444           -1         -1             0.1282         1.0449   \n",
            "1072028           -1         -1             0.4155         1.0449   \n",
            "267259            -1         -1             0.0464         0.0328   \n",
            "\n",
            "         extraversion  nueroticism  openess_to_experience  \n",
            "ID                                                         \n",
            "664736         0.4711      -0.7415                -0.4776  \n",
            "1123290        1.2396      -0.8682                 1.0554  \n",
            "1062444       -0.6048      -1.6289                -0.8608  \n",
            "1072028       -0.6048       1.5404                 1.0554  \n",
            "267259        -0.0537       0.0623                 0.6603  \n",
            "\n",
            "[5 rows x 26 columns]\n"
          ]
        }
      ],
      "source": [
        "# write your code\n",
        "data_train.set_index('ID', inplace=True)\n",
        "data2_test.set_index('ID', inplace=True)\n",
        "\n",
        "print(\"The Cleaned Training Data set:\\n\",data_train.head(5))\n",
        "print()\n",
        "print(\"The Cleaned Test Data set: \\n\", data2_test.head(5))"
      ]
    },
    {
      "cell_type": "markdown",
      "metadata": {
        "id": "MRS4slj81rlA"
      },
      "source": [
        "Now, check the remaining columns for any missing values and data types of the columns using the 'info' method.\n"
      ]
    },
    {
      "cell_type": "code",
      "execution_count": null,
      "metadata": {
        "id": "VekSRJCl1rlA",
        "colab": {
          "base_uri": "https://localhost:8080/"
        },
        "outputId": "c1e7fcda-8145-4f4a-a0b8-490d71d1a343"
      },
      "outputs": [
        {
          "output_type": "stream",
          "name": "stdout",
          "text": [
            "Training Information: \n",
            "<class 'pandas.core.frame.DataFrame'>\n",
            "Index: 3998 entries, 203097 to 324966\n",
            "Data columns (total 26 columns):\n",
            " #   Column                 Non-Null Count  Dtype         \n",
            "---  ------                 --------------  -----         \n",
            " 0   Salary                 3998 non-null   int64         \n",
            " 1   Gender                 3998 non-null   object        \n",
            " 2   DOB                    3998 non-null   datetime64[ns]\n",
            " 3   10percentage           3998 non-null   float64       \n",
            " 4   12graduation           3998 non-null   int64         \n",
            " 5   12percentage           3998 non-null   float64       \n",
            " 6   Degree                 3998 non-null   object        \n",
            " 7   Specialization         3998 non-null   object        \n",
            " 8   collegeGPA             3998 non-null   float64       \n",
            " 9   GraduationYear         3998 non-null   int64         \n",
            " 10  English                3998 non-null   int64         \n",
            " 11  Logical                3998 non-null   int64         \n",
            " 12  Quant                  3998 non-null   int64         \n",
            " 13  Domain                 3998 non-null   float64       \n",
            " 14  ComputerProgramming    3998 non-null   int64         \n",
            " 15  ElectronicsAndSemicon  3998 non-null   int64         \n",
            " 16  ComputerScience        3998 non-null   int64         \n",
            " 17  MechanicalEngg         3998 non-null   int64         \n",
            " 18  ElectricalEngg         3998 non-null   int64         \n",
            " 19  TelecomEngg            3998 non-null   int64         \n",
            " 20  CivilEngg              3998 non-null   int64         \n",
            " 21  conscientiousness      3998 non-null   float64       \n",
            " 22  agreeableness          3998 non-null   float64       \n",
            " 23  extraversion           3998 non-null   float64       \n",
            " 24  nueroticism            3998 non-null   float64       \n",
            " 25  openess_to_experience  3998 non-null   float64       \n",
            "dtypes: datetime64[ns](1), float64(9), int64(13), object(3)\n",
            "memory usage: 843.3+ KB\n",
            "\n",
            "Testing Information: \n",
            "<class 'pandas.core.frame.DataFrame'>\n",
            "Index: 1500 entries, 664736 to 1037308\n",
            "Data columns (total 26 columns):\n",
            " #   Column                 Non-Null Count  Dtype         \n",
            "---  ------                 --------------  -----         \n",
            " 0   Salary                 1500 non-null   object        \n",
            " 1   Gender                 1500 non-null   object        \n",
            " 2   DOB                    1500 non-null   datetime64[ns]\n",
            " 3   10percentage           1500 non-null   float64       \n",
            " 4   12graduation           1500 non-null   int64         \n",
            " 5   12percentage           1500 non-null   float64       \n",
            " 6   Degree                 1500 non-null   object        \n",
            " 7   Specialization         1500 non-null   object        \n",
            " 8   collegeGPA             1500 non-null   float64       \n",
            " 9   GraduationYear         1500 non-null   int64         \n",
            " 10  English                1500 non-null   int64         \n",
            " 11  Logical                1500 non-null   int64         \n",
            " 12  Quant                  1500 non-null   int64         \n",
            " 13  Domain                 1500 non-null   float64       \n",
            " 14  ComputerProgramming    1500 non-null   int64         \n",
            " 15  ElectronicsAndSemicon  1500 non-null   int64         \n",
            " 16  ComputerScience        1500 non-null   int64         \n",
            " 17  MechanicalEngg         1500 non-null   int64         \n",
            " 18  ElectricalEngg         1500 non-null   int64         \n",
            " 19  TelecomEngg            1500 non-null   int64         \n",
            " 20  CivilEngg              1500 non-null   int64         \n",
            " 21  conscientiousness      1500 non-null   float64       \n",
            " 22  agreeableness          1500 non-null   float64       \n",
            " 23  extraversion           1500 non-null   float64       \n",
            " 24  nueroticism            1500 non-null   float64       \n",
            " 25  openess_to_experience  1500 non-null   float64       \n",
            "dtypes: datetime64[ns](1), float64(9), int64(12), object(4)\n",
            "memory usage: 316.4+ KB\n"
          ]
        }
      ],
      "source": [
        "# write your code\n",
        "print(\"Training Information: \")\n",
        "data_train.info()\n",
        "\n",
        "print()\n",
        "print(\"Testing Information: \")\n",
        "data2_test.info()"
      ]
    },
    {
      "cell_type": "markdown",
      "metadata": {
        "id": "EeAe60Vm1rlA"
      },
      "source": [
        "We can see the remaining dataset consists of:\n",
        "\n",
        "- 3 categorical columns\n",
        "- 1 datetime column\n",
        "- 22 numerical columns\n",
        "\n",
        "And there are no missing values in the dataset. But there might be some other form of missing values like '0' or '-1' which we will check now.\n",
        "\n",
        "Find number of data points where '0' for each column in the dataset. Use the binary mask to find the number of data points where '0' for each column in the dataset and then sum the values in the binary mask to get the number of data points where '0' for each column in the dataset.\n"
      ]
    },
    {
      "cell_type": "code",
      "execution_count": null,
      "metadata": {
        "id": "_TI09-HB1rlA",
        "colab": {
          "base_uri": "https://localhost:8080/"
        },
        "outputId": "640a5484-e63f-4d01-cef8-910d6bc2a795"
      },
      "outputs": [
        {
          "output_type": "stream",
          "name": "stdout",
          "text": [
            "Training Data set:\n",
            " Salary                   0\n",
            "Gender                   0\n",
            "DOB                      0\n",
            "10percentage             0\n",
            "12graduation             0\n",
            "12percentage             0\n",
            "Degree                   0\n",
            "Specialization           0\n",
            "collegeGPA               0\n",
            "GraduationYear           1\n",
            "English                  0\n",
            "Logical                  0\n",
            "Quant                    0\n",
            "Domain                   0\n",
            "ComputerProgramming      0\n",
            "ElectronicsAndSemicon    0\n",
            "ComputerScience          0\n",
            "MechanicalEngg           0\n",
            "ElectricalEngg           0\n",
            "TelecomEngg              0\n",
            "CivilEngg                0\n",
            "conscientiousness        0\n",
            "agreeableness            0\n",
            "extraversion             0\n",
            "nueroticism              0\n",
            "openess_to_experience    0\n",
            "dtype: int64\n",
            "\n",
            "Testing Data set:\n",
            " Salary                   0\n",
            "Gender                   0\n",
            "DOB                      0\n",
            "10percentage             0\n",
            "12graduation             0\n",
            "12percentage             0\n",
            "Degree                   0\n",
            "Specialization           0\n",
            "collegeGPA               0\n",
            "GraduationYear           0\n",
            "English                  0\n",
            "Logical                  0\n",
            "Quant                    0\n",
            "Domain                   0\n",
            "ComputerProgramming      0\n",
            "ElectronicsAndSemicon    0\n",
            "ComputerScience          0\n",
            "MechanicalEngg           0\n",
            "ElectricalEngg           0\n",
            "TelecomEngg              0\n",
            "CivilEngg                0\n",
            "conscientiousness        0\n",
            "agreeableness            0\n",
            "extraversion             0\n",
            "nueroticism              0\n",
            "openess_to_experience    0\n",
            "dtype: int64\n"
          ]
        }
      ],
      "source": [
        "# write your code\n",
        "\n",
        "zero_train = (data_train == 0).sum()\n",
        "print(\"Training Data set:\\n\", zero_train)\n",
        "\n",
        "print()\n",
        "zero_test = (data2_test == 0).sum()\n",
        "print(\"Testing Data set:\\n\", zero_test)"
      ]
    },
    {
      "cell_type": "markdown",
      "metadata": {
        "id": "kyVHv33a1rlA"
      },
      "source": [
        "Similarly, find number of data points where '-1' for each column in the dataset. Using the same approach as above.\n"
      ]
    },
    {
      "cell_type": "code",
      "execution_count": null,
      "metadata": {
        "id": "o0bJeGk91rlA",
        "colab": {
          "base_uri": "https://localhost:8080/"
        },
        "outputId": "c3d6a60c-4c77-426a-c7f2-9fd8599b56b1"
      },
      "outputs": [
        {
          "output_type": "stream",
          "name": "stdout",
          "text": [
            "Training Data set:\n",
            " Salary                      0\n",
            "Gender                      0\n",
            "DOB                         0\n",
            "10percentage                0\n",
            "12graduation                0\n",
            "12percentage                0\n",
            "Degree                      0\n",
            "Specialization              0\n",
            "collegeGPA                  0\n",
            "GraduationYear              0\n",
            "English                     0\n",
            "Logical                     0\n",
            "Quant                       0\n",
            "Domain                    246\n",
            "ComputerProgramming       868\n",
            "ElectronicsAndSemicon    2854\n",
            "ComputerScience          3096\n",
            "MechanicalEngg           3763\n",
            "ElectricalEngg           3837\n",
            "TelecomEngg              3624\n",
            "CivilEngg                3956\n",
            "conscientiousness           0\n",
            "agreeableness               0\n",
            "extraversion                0\n",
            "nueroticism                 0\n",
            "openess_to_experience       0\n",
            "dtype: int64\n",
            "\n",
            "\n",
            "Testing Data set:\n",
            " Salary                      0\n",
            "Gender                      0\n",
            "DOB                         0\n",
            "10percentage                0\n",
            "12graduation                0\n",
            "12percentage                0\n",
            "Degree                      0\n",
            "Specialization              0\n",
            "collegeGPA                  0\n",
            "GraduationYear              0\n",
            "English                     0\n",
            "Logical                     0\n",
            "Quant                       0\n",
            "Domain                     86\n",
            "ComputerProgramming       312\n",
            "ElectronicsAndSemicon    1070\n",
            "ComputerScience          1182\n",
            "MechanicalEngg           1414\n",
            "ElectricalEngg           1428\n",
            "TelecomEngg              1344\n",
            "CivilEngg                1479\n",
            "conscientiousness           0\n",
            "agreeableness               0\n",
            "extraversion                0\n",
            "nueroticism                 0\n",
            "openess_to_experience       0\n",
            "dtype: int64\n"
          ]
        }
      ],
      "source": [
        "# write your code\n",
        "\n",
        "minus_one_train = (data_train == -1).sum()\n",
        "print(\"Training Data set:\\n\", minus_one_train)\n",
        "\n",
        "print('\\n')\n",
        "minus_one_test = (data2_test == -1).sum()\n",
        "print(\"Testing Data set:\\n\", minus_one_test)"
      ]
    },
    {
      "cell_type": "markdown",
      "metadata": {
        "id": "U-kCP_781rlA"
      },
      "source": [
        "Observe the values you can see:\n",
        "\n",
        "- Graduation year column contain 0 which is a missing value\n",
        "- DOB is given in timestamp format\n",
        "- Domain column contain -1 which is a missing value\n"
      ]
    },
    {
      "cell_type": "markdown",
      "metadata": {
        "id": "vHsBTddu1rlA"
      },
      "source": [
        "Graduation year is given as 0 which is a missing value. We will need to impute these missing values with the mode of the column. Find the mode of the column and impute the missing values with the mode binary indexing as discussed in the session.\n"
      ]
    },
    {
      "cell_type": "code",
      "execution_count": null,
      "metadata": {
        "id": "TsmGxI1z1rlA"
      },
      "outputs": [],
      "source": [
        "# write your code, for Train Graduation year\n",
        "mode_value_gy = data_train['GraduationYear'].mode()[0]\n",
        "data_train.loc[data_train['GraduationYear'] == 0, 'GraduationYear'] = mode_value_gy\n",
        "\n",
        "#For Train Domain value\n",
        "mode_value_domain_train = data_train['Domain'].mode()[0]\n",
        "data_train.loc[data_train['Domain'] == 0, 'Domain'] = mode_value_domain_train\n",
        "\n",
        "\n",
        "#For Test Domain value\n",
        "mode_value_domain_test = data2_test['Domain'].mode()[0]\n",
        "data2_test.loc[data2_test['Domain'] == 0, 'Domain'] = mode_value_domain_test\n",
        "\n",
        "\n"
      ]
    },
    {
      "cell_type": "markdown",
      "metadata": {
        "id": "jiCg-hgX1rlA"
      },
      "source": [
        "Now, see the 'DOB' may also not be a good predictor for the salary. But we can use the 'DOB', '12graduation' and 'GraduationYear' columns to calculate the age of the candidate when he/she graduated from High School and College. That might be a good predictor for the salary as from the two age we may determine if the candidate is a prodigy or not, dropout or not, etc.\n",
        "\n",
        "- Convert the 'DOB' datetime to 'BirthYear' using the 'dt' accessor.\n",
        "- Calculate the '12GradAge' by subtracting the '12graduation' from the 'BirthYear'.\n",
        "- Calculate the 'GradAge' by subtracting the 'GraduationYear' from the 'BirthYear'.\n",
        "- Drop the 'DOB', '12graduation', and 'GraduationYear' columns from the training and test datasets.\n",
        "\n",
        "[Note: You are free to use any insights from these that you think might be useful and improve the model performance]\n"
      ]
    },
    {
      "cell_type": "code",
      "execution_count": null,
      "metadata": {
        "id": "YN6HgZ-z1rlA",
        "colab": {
          "base_uri": "https://localhost:8080/"
        },
        "outputId": "cc7d43c1-9617-4103-c34b-fa9ab5a9957d"
      },
      "outputs": [
        {
          "output_type": "stream",
          "name": "stdout",
          "text": [
            "Treaining Data Set:\n",
            "         Salary Gender  10percentage  12percentage       Degree  \\\n",
            "ID                                                                \n",
            "203097   420000      f          84.3          95.8  B.Tech/B.E.   \n",
            "579905   500000      m          85.4          85.0  B.Tech/B.E.   \n",
            "810601   325000      f          85.0          68.2  B.Tech/B.E.   \n",
            "267447  1100000      m          85.6          83.6  B.Tech/B.E.   \n",
            "343523   200000      m          78.0          76.8  B.Tech/B.E.   \n",
            "\n",
            "                                   Specialization  collegeGPA  English  \\\n",
            "ID                                                                       \n",
            "203097                       computer engineering       78.00      515   \n",
            "579905  electronics and communication engineering       70.06      695   \n",
            "810601                     information technology       70.00      615   \n",
            "267447                       computer engineering       74.64      635   \n",
            "343523  electronics and communication engineering       73.90      545   \n",
            "\n",
            "        Logical  Quant  ...  ElectricalEngg  TelecomEngg  CivilEngg  \\\n",
            "ID                      ...                                           \n",
            "203097      585    525  ...              -1           -1         -1   \n",
            "579905      610    780  ...              -1           -1         -1   \n",
            "810601      545    370  ...              -1           -1         -1   \n",
            "267447      585    625  ...              -1           -1         -1   \n",
            "343523      625    465  ...              -1           -1         -1   \n",
            "\n",
            "        conscientiousness  agreeableness  extraversion  nueroticism  \\\n",
            "ID                                                                    \n",
            "203097             0.9737         0.8128        0.5269      1.35490   \n",
            "579905            -0.7335         0.3789        1.2396     -0.10760   \n",
            "810601             0.2718         1.7109        0.1637     -0.86820   \n",
            "267447             0.0464         0.3448       -0.3440     -0.40780   \n",
            "343523            -0.8810        -0.2793       -1.0697      0.09163   \n",
            "\n",
            "        openess_to_experience  12GradAge  GradAge  \n",
            "ID                                                 \n",
            "203097                -0.4455         17       21  \n",
            "579905                 0.8637         18       23  \n",
            "810601                 0.6721         18       22  \n",
            "267447                -0.9194         18       22  \n",
            "343523                -0.1295         17       21  \n",
            "\n",
            "[5 rows x 25 columns]\n",
            "Test Data Set:\n",
            "\n",
            "        Salary Gender  10percentage  12percentage       Degree  \\\n",
            "ID                                                               \n",
            "664736       ?      m          75.0          74.0  B.Tech/B.E.   \n",
            "1123290      ?      m          83.0          75.0  B.Tech/B.E.   \n",
            "1062444      ?      f          85.2          91.4  B.Tech/B.E.   \n",
            "1072028      ?      f          81.8          80.8  B.Tech/B.E.   \n",
            "267259       ?      m          78.0          78.0  B.Tech/B.E.   \n",
            "\n",
            "                                    Specialization  collegeGPA  English  \\\n",
            "ID                                                                        \n",
            "664736   electronics and communication engineering       67.20      510   \n",
            "1123290                     information technology       71.10      535   \n",
            "1062444                     information technology       80.50      745   \n",
            "1072028                     information technology       70.38      325   \n",
            "267259                        computer engineering       71.00      475   \n",
            "\n",
            "         Logical  Quant  ...  ElectricalEngg  TelecomEngg  CivilEngg  \\\n",
            "ID                       ...                                           \n",
            "664736       460    620  ...              -1           -1         -1   \n",
            "1123290      605    655  ...              -1           -1         -1   \n",
            "1062444      690    655  ...              -1           -1         -1   \n",
            "1072028      455    415  ...              -1           -1         -1   \n",
            "267259       395    435  ...              -1           -1         -1   \n",
            "\n",
            "         conscientiousness  agreeableness  extraversion  nueroticism  \\\n",
            "ID                                                                     \n",
            "664736              0.2718        -0.2871        0.4711      -0.7415   \n",
            "1123290             0.7027         0.2124        1.2396      -0.8682   \n",
            "1062444             0.1282         1.0449       -0.6048      -1.6289   \n",
            "1072028             0.4155         1.0449       -0.6048       1.5404   \n",
            "267259              0.0464         0.0328       -0.0537       0.0623   \n",
            "\n",
            "         openess_to_experience  12GradAge  GradAge  \n",
            "ID                                                  \n",
            "664736                 -0.4776         17       21  \n",
            "1123290                 1.0554         17       22  \n",
            "1062444                -0.8608         18       22  \n",
            "1072028                 1.0554         20       24  \n",
            "267259                  0.6603         17       21  \n",
            "\n",
            "[5 rows x 25 columns]\n"
          ]
        }
      ],
      "source": [
        "# Training Dataset\n",
        "print(\"Treaining Data Set:\")\n",
        "data_train[\"DOB\"] = pd.to_datetime(data_train[\"DOB\"])\n",
        "BirthYear_train = data_train[\"DOB\"].dt.year\n",
        "\n",
        "data_train[\"12GradAge\"] = data_train[\"12graduation\"] - BirthYear_train\n",
        "data_train[\"GradAge\"] = data_train[\"GraduationYear\"] - BirthYear_train\n",
        "data_train.drop(['DOB', '12graduation', 'GraduationYear'], axis=1, inplace=True)\n",
        "\n",
        "print(data_train.head(5))\n",
        "\n",
        "\n",
        "# Test Dataset\n",
        "\n",
        "print(\"Test Data Set:\\n\")\n",
        "data2_test[\"DOB\"] = pd.to_datetime(data2_test[\"DOB\"])\n",
        "BirthYear_test = data2_test[\"DOB\"].dt.year\n",
        "\n",
        "data2_test[\"12GradAge\"] = data2_test[\"12graduation\"] - BirthYear_test\n",
        "data2_test[\"GradAge\"] = data2_test[\"GraduationYear\"] - BirthYear_test\n",
        "data2_test.drop(['DOB', '12graduation', 'GraduationYear'], axis=1, inplace=True)\n",
        "\n",
        "\n",
        "print(data2_test.head(5))"
      ]
    },
    {
      "cell_type": "markdown",
      "metadata": {
        "id": "PnyFDeKi1rlB"
      },
      "source": [
        "Map specializations to following categories:\n",
        "\n",
        "- 'CS' for Computer Science\n",
        "- 'EC' for Electronics\n",
        "- 'ME' for Mechanical\n",
        "- 'EL' for Electrical\n",
        "- 'CE' for Civil\n",
        "- 'other' for other specializations\n",
        "\n",
        "Use the dictionary given below to map the specializations to the categories using the 'map' method.\n"
      ]
    },
    {
      "cell_type": "code",
      "execution_count": null,
      "metadata": {
        "id": "HLFCZhN_1rlB",
        "colab": {
          "base_uri": "https://localhost:8080/"
        },
        "outputId": "408fd6c2-a234-470a-8ba3-52abc58a9399"
      },
      "outputs": [
        {
          "output_type": "stream",
          "name": "stdout",
          "text": [
            "Training Data Set:\n",
            "\n",
            "         Salary Gender  10percentage  12percentage       Degree  \\\n",
            "ID                                                                \n",
            "203097   420000      f          84.3          95.8  B.Tech/B.E.   \n",
            "579905   500000      m          85.4          85.0  B.Tech/B.E.   \n",
            "810601   325000      f          85.0          68.2  B.Tech/B.E.   \n",
            "267447  1100000      m          85.6          83.6  B.Tech/B.E.   \n",
            "343523   200000      m          78.0          76.8  B.Tech/B.E.   \n",
            "\n",
            "       Specialization  collegeGPA  English  Logical  Quant  ...  \\\n",
            "ID                                                          ...   \n",
            "203097             CS       78.00      515      585    525  ...   \n",
            "579905             EC       70.06      695      610    780  ...   \n",
            "810601             CS       70.00      615      545    370  ...   \n",
            "267447             CS       74.64      635      585    625  ...   \n",
            "343523             EC       73.90      545      625    465  ...   \n",
            "\n",
            "        ElectricalEngg  TelecomEngg  CivilEngg  conscientiousness  \\\n",
            "ID                                                                  \n",
            "203097              -1           -1         -1             0.9737   \n",
            "579905              -1           -1         -1            -0.7335   \n",
            "810601              -1           -1         -1             0.2718   \n",
            "267447              -1           -1         -1             0.0464   \n",
            "343523              -1           -1         -1            -0.8810   \n",
            "\n",
            "        agreeableness  extraversion  nueroticism  openess_to_experience  \\\n",
            "ID                                                                        \n",
            "203097         0.8128        0.5269      1.35490                -0.4455   \n",
            "579905         0.3789        1.2396     -0.10760                 0.8637   \n",
            "810601         1.7109        0.1637     -0.86820                 0.6721   \n",
            "267447         0.3448       -0.3440     -0.40780                -0.9194   \n",
            "343523        -0.2793       -1.0697      0.09163                -0.1295   \n",
            "\n",
            "        12GradAge  GradAge  \n",
            "ID                          \n",
            "203097         17       21  \n",
            "579905         18       23  \n",
            "810601         18       22  \n",
            "267447         18       22  \n",
            "343523         17       21  \n",
            "\n",
            "[5 rows x 25 columns]\n",
            "Testing Data Set:\n",
            "\n",
            "        Salary Gender  10percentage  12percentage       Degree Specialization  \\\n",
            "ID                                                                              \n",
            "664736       ?      m          75.0          74.0  B.Tech/B.E.             EC   \n",
            "1123290      ?      m          83.0          75.0  B.Tech/B.E.             CS   \n",
            "1062444      ?      f          85.2          91.4  B.Tech/B.E.             CS   \n",
            "1072028      ?      f          81.8          80.8  B.Tech/B.E.             CS   \n",
            "267259       ?      m          78.0          78.0  B.Tech/B.E.             CS   \n",
            "\n",
            "         collegeGPA  English  Logical  Quant  ...  ElectricalEngg  \\\n",
            "ID                                            ...                   \n",
            "664736        67.20      510      460    620  ...              -1   \n",
            "1123290       71.10      535      605    655  ...              -1   \n",
            "1062444       80.50      745      690    655  ...              -1   \n",
            "1072028       70.38      325      455    415  ...              -1   \n",
            "267259        71.00      475      395    435  ...              -1   \n",
            "\n",
            "         TelecomEngg  CivilEngg  conscientiousness  agreeableness  \\\n",
            "ID                                                                  \n",
            "664736            -1         -1             0.2718        -0.2871   \n",
            "1123290           -1         -1             0.7027         0.2124   \n",
            "1062444           -1         -1             0.1282         1.0449   \n",
            "1072028           -1         -1             0.4155         1.0449   \n",
            "267259            -1         -1             0.0464         0.0328   \n",
            "\n",
            "         extraversion  nueroticism  openess_to_experience  12GradAge  GradAge  \n",
            "ID                                                                             \n",
            "664736         0.4711      -0.7415                -0.4776         17       21  \n",
            "1123290        1.2396      -0.8682                 1.0554         17       22  \n",
            "1062444       -0.6048      -1.6289                -0.8608         18       22  \n",
            "1072028       -0.6048       1.5404                 1.0554         20       24  \n",
            "267259        -0.0537       0.0623                 0.6603         17       21  \n",
            "\n",
            "[5 rows x 25 columns]\n"
          ]
        }
      ],
      "source": [
        "specialization_map = \\\n",
        "    {'electronics and communication engineering': 'EC',\n",
        "     'computer science & engineering': 'CS',\n",
        "     'information technology': 'CS',\n",
        "     'computer engineering': 'CS',\n",
        "     'computer application': 'CS',\n",
        "     'mechanical engineering': 'ME',\n",
        "     'electronics and electrical engineering': 'EC',\n",
        "     'electronics & telecommunications': 'EC',\n",
        "     'electrical engineering': 'EL',\n",
        "     'electronics & instrumentation eng': 'EC',\n",
        "     'civil engineering': 'CE',\n",
        "     'electronics and instrumentation engineering': 'EC',\n",
        "     'information science engineering': 'CS',\n",
        "     'instrumentation and control engineering': 'EC',\n",
        "     'electronics engineering': 'EC',\n",
        "     'biotechnology': 'other',\n",
        "     'other': 'other',\n",
        "     'industrial & production engineering': 'other',\n",
        "     'chemical engineering': 'other',\n",
        "     'applied electronics and instrumentation': 'EC',\n",
        "     'computer science and technology': 'CS',\n",
        "     'telecommunication engineering': 'EC',\n",
        "     'mechanical and automation': 'ME',\n",
        "     'automobile/automotive engineering': 'ME',\n",
        "     'instrumentation engineering': 'EC',\n",
        "     'mechatronics': 'ME',\n",
        "     'electronics and computer engineering': 'CS',\n",
        "     'aeronautical engineering': 'ME',\n",
        "     'computer science': 'CS',\n",
        "     'metallurgical engineering': 'other',\n",
        "     'biomedical engineering': 'other',\n",
        "     'industrial engineering': 'other',\n",
        "     'information & communication technology': 'EC',\n",
        "     'electrical and power engineering': 'EL',\n",
        "     'industrial & management engineering': 'other',\n",
        "     'computer networking': 'CS',\n",
        "     'embedded systems technology': 'EC',\n",
        "     'power systems and automation': 'EL',\n",
        "     'computer and communication engineering': 'CS',\n",
        "     'information science': 'CS',\n",
        "     'internal combustion engine': 'ME',\n",
        "     'ceramic engineering': 'other',\n",
        "     'mechanical & production engineering': 'ME',\n",
        "     'control and instrumentation engineering': 'EC',\n",
        "     'polymer technology': 'other',\n",
        "     'electronics': 'EC'}\n",
        "\n",
        "# Training Data\n",
        "\n",
        "print(\"Training Data Set:\\n\")\n",
        "data_train[\"Specialization\"] = data_train[\"Specialization\"].map(specialization_map)\n",
        "print(data_train.head(5))\n",
        "\n",
        "#Testing Data\n",
        "\n",
        "print(\"Testing Data Set:\\n\")\n",
        "data2_test[\"Specialization\"] = data2_test[\"Specialization\"].map(specialization_map)\n",
        "print(data2_test.head(5))"
      ]
    },
    {
      "cell_type": "markdown",
      "metadata": {
        "id": "7X97VXW21rlB"
      },
      "source": [
        "Now, we will update the college GPA column. In data description, it is mentioned that some of the students have GPA on a scale of 10 and some on a scale of 100. We will convert the GPA that are less than 10 to a scale of 100 by multiplying them by 10. Use the binary indexing to update the collegeGPA column.\n"
      ]
    },
    {
      "cell_type": "code",
      "execution_count": null,
      "metadata": {
        "id": "4uxPGZ7t1rlB",
        "colab": {
          "base_uri": "https://localhost:8080/"
        },
        "outputId": "17a1fa8b-ec53-4b35-eab9-4cd86b10b015"
      },
      "outputs": [
        {
          "output_type": "stream",
          "name": "stdout",
          "text": [
            "Training Data: \n",
            "\n",
            "          Salary Gender  10percentage  12percentage       Degree  \\\n",
            "ID                                                                 \n",
            "203097    420000      f          84.3          95.8  B.Tech/B.E.   \n",
            "579905    500000      m          85.4          85.0  B.Tech/B.E.   \n",
            "810601    325000      f          85.0          68.2  B.Tech/B.E.   \n",
            "267447   1100000      m          85.6          83.6  B.Tech/B.E.   \n",
            "343523    200000      m          78.0          76.8  B.Tech/B.E.   \n",
            "...          ...    ...           ...           ...          ...   \n",
            "318391    425000      f          83.5          94.2  B.Tech/B.E.   \n",
            "60260     450000      m          65.0          66.0  B.Tech/B.E.   \n",
            "1026621   300000      f          88.0          88.0  B.Tech/B.E.   \n",
            "112994    470000      m          79.0          76.6  B.Tech/B.E.   \n",
            "1123186   120000      m          55.6          50.8          MCA   \n",
            "\n",
            "        Specialization  collegeGPA  English  Logical  Quant  ...  \\\n",
            "ID                                                           ...   \n",
            "203097              CS       78.00      515      585    525  ...   \n",
            "579905              EC       70.06      695      610    780  ...   \n",
            "810601              CS       70.00      615      545    370  ...   \n",
            "267447              CS       74.64      635      585    625  ...   \n",
            "343523              EC       73.90      545      625    465  ...   \n",
            "...                ...         ...      ...      ...    ...  ...   \n",
            "318391              CS       88.20      515      475    445  ...   \n",
            "60260               CS       64.00      515      565    554  ...   \n",
            "1026621             CS       70.12      710      605    605  ...   \n",
            "112994              CS       77.85      635      495    495  ...   \n",
            "1123186             CS       80.03      440      425    370  ...   \n",
            "\n",
            "         ElectricalEngg  TelecomEngg  CivilEngg  conscientiousness  \\\n",
            "ID                                                                   \n",
            "203097               -1           -1         -1             0.9737   \n",
            "579905               -1           -1         -1            -0.7335   \n",
            "810601               -1           -1         -1             0.2718   \n",
            "267447               -1           -1         -1             0.0464   \n",
            "343523               -1           -1         -1            -0.8810   \n",
            "...                 ...          ...        ...                ...   \n",
            "318391               -1           -1         -1             0.6646   \n",
            "60260                -1           -1         -1            -0.7264   \n",
            "1026621              -1           -1         -1             0.5591   \n",
            "112994               -1           -1         -1             0.8192   \n",
            "1123186              -1           -1         -1            -0.0154   \n",
            "\n",
            "         agreeableness  extraversion  nueroticism  openess_to_experience  \\\n",
            "ID                                                                         \n",
            "203097          0.8128        0.5269      1.35490                -0.4455   \n",
            "579905          0.3789        1.2396     -0.10760                 0.8637   \n",
            "810601          1.7109        0.1637     -0.86820                 0.6721   \n",
            "267447          0.3448       -0.3440     -0.40780                -0.9194   \n",
            "343523         -0.2793       -1.0697      0.09163                -0.1295   \n",
            "...                ...           ...          ...                    ...   \n",
            "318391          1.4368       -0.0537      0.88483                 0.5024   \n",
            "60260           0.1888       -1.2148     -0.52530                 1.1343   \n",
            "1026621         1.2114        1.8543      0.14590                 0.0973   \n",
            "112994         -0.5913        0.2366     -0.76030                -0.1295   \n",
            "1123186         0.8784        1.2396      1.28690                 0.8637   \n",
            "\n",
            "         12GradAge  GradAge  \n",
            "ID                           \n",
            "203097          17       21  \n",
            "579905          18       23  \n",
            "810601          18       22  \n",
            "267447          18       22  \n",
            "343523          17       21  \n",
            "...            ...      ...  \n",
            "318391          18       22  \n",
            "60260           18       22  \n",
            "1026621         18       22  \n",
            "112994          18       22  \n",
            "1123186         17       26  \n",
            "\n",
            "[100 rows x 25 columns]\n",
            "Testing Data: \n",
            "\n",
            "        Salary Gender  10percentage  12percentage       Degree Specialization  \\\n",
            "ID                                                                              \n",
            "664736       ?      m         75.00         74.00  B.Tech/B.E.             EC   \n",
            "1123290      ?      m         83.00         75.00  B.Tech/B.E.             CS   \n",
            "1062444      ?      f         85.20         91.40  B.Tech/B.E.             CS   \n",
            "1072028      ?      f         81.80         80.80  B.Tech/B.E.             CS   \n",
            "267259       ?      m         78.00         78.00  B.Tech/B.E.             CS   \n",
            "...        ...    ...           ...           ...          ...            ...   \n",
            "1270938      ?      f         90.00         77.00  B.Tech/B.E.             EL   \n",
            "1122958      ?      m         79.00         73.16  B.Tech/B.E.             CS   \n",
            "371831       ?      m         77.13         56.00  B.Tech/B.E.             EC   \n",
            "846943       ?      m         91.00         93.40  B.Tech/B.E.             CS   \n",
            "464510       ?      f         86.75         65.70  B.Tech/B.E.             CS   \n",
            "\n",
            "         collegeGPA  English  Logical  Quant  ...  ElectricalEngg  \\\n",
            "ID                                            ...                   \n",
            "664736        67.20      510      460    620  ...              -1   \n",
            "1123290       71.10      535      605    655  ...              -1   \n",
            "1062444       80.50      745      690    655  ...              -1   \n",
            "1072028       70.38      325      455    415  ...              -1   \n",
            "267259        71.00      475      395    435  ...              -1   \n",
            "...             ...      ...      ...    ...  ...             ...   \n",
            "1270938       73.00      405      470    370  ...              -1   \n",
            "1122958       62.26      560      485    620  ...              -1   \n",
            "371831        56.48      455      585    505  ...              -1   \n",
            "846943        81.30      475      495    590  ...              -1   \n",
            "464510        64.20      385      435    365  ...              -1   \n",
            "\n",
            "         TelecomEngg  CivilEngg  conscientiousness  agreeableness  \\\n",
            "ID                                                                  \n",
            "664736            -1         -1             0.2718        -0.2871   \n",
            "1123290           -1         -1             0.7027         0.2124   \n",
            "1062444           -1         -1             0.1282         1.0449   \n",
            "1072028           -1         -1             0.4155         1.0449   \n",
            "267259            -1         -1             0.0464         0.0328   \n",
            "...              ...        ...                ...            ...   \n",
            "1270938           -1         -1             1.7081         0.5454   \n",
            "1122958           -1         -1            -0.7335         0.8784   \n",
            "371831            -1         -1            -1.0355         1.5928   \n",
            "846943            -1         -1             1.2772         0.2124   \n",
            "464510            -1         -1             0.0464         0.8128   \n",
            "\n",
            "         extraversion  nueroticism  openess_to_experience  12GradAge  GradAge  \n",
            "ID                                                                             \n",
            "664736         0.4711      -0.7415                -0.4776         17       21  \n",
            "1123290        1.2396      -0.8682                 1.0554         17       22  \n",
            "1062444       -0.6048      -1.6289                -0.8608         18       22  \n",
            "1072028       -0.6048       1.5404                 1.0554         20       24  \n",
            "267259        -0.0537       0.0623                 0.6603         17       21  \n",
            "...               ...          ...                    ...        ...      ...  \n",
            "1270938        1.3933       0.9066                 1.4386         17       21  \n",
            "1122958        0.6248      -1.1218                 1.6302         17       22  \n",
            "371831         1.1074      -0.6428                -0.1690         18       23  \n",
            "846943         0.9322      -1.5021                -0.0943         17       21  \n",
            "464510         0.2366       0.0035                -0.4455         18       22  \n",
            "\n",
            "[100 rows x 25 columns]\n"
          ]
        }
      ],
      "source": [
        "# Training Data\n",
        "print(\"Training Data: \\n\")\n",
        "data_train.loc[data_train['collegeGPA'] < 10, 'collegeGPA'] *= 10\n",
        "print(data_train.head(100))\n",
        "\n",
        "\n",
        "print(\"Testing Data: \\n\")\n",
        "#Testing Data\n",
        "data2_test.loc[data2_test['collegeGPA'] < 10, 'collegeGPA'] *= 10\n",
        "print(data2_test.head(100))"
      ]
    },
    {
      "cell_type": "markdown",
      "metadata": {
        "id": "rLLG9K7R1rlB"
      },
      "source": [
        "Now, according to the data description, the 'Domain' column is the score of the candidate in their domain specific test which is scaled to 0-1, from the following optional tests:\n",
        "\n",
        "- ComputerProgramming\n",
        "- ElectronicsAndSemicon\n",
        "- ComputerScience\n",
        "- MechanicalEngg\n",
        "- ElectricalEngg\n",
        "- TelecomEngg\n",
        "- CivilEngg\n",
        "\n",
        "Now as the values in the 'Domain' column are calculated from the above columns, we can drop the above columns from the training and test datasets. Also, drop the rows with -1 in the 'Domain' column as they are missing values.\n",
        "\n",
        "[Note: Befor dropping you can try find the missing 246 train values of 'Domain' column using the above columns and impute them. In this case a little portion of the data is missing so we are dropping the rows.]\n"
      ]
    },
    {
      "cell_type": "code",
      "execution_count": null,
      "metadata": {
        "id": "3EuWmJaa1rlB",
        "colab": {
          "base_uri": "https://localhost:8080/"
        },
        "outputId": "2523c858-f822-4095-e995-26a94757509a"
      },
      "outputs": [
        {
          "output_type": "stream",
          "name": "stdout",
          "text": [
            "          Salary Gender  10percentage  12percentage       Degree  \\\n",
            "ID                                                                 \n",
            "203097    420000      f         84.30          95.8  B.Tech/B.E.   \n",
            "579905    500000      m         85.40          85.0  B.Tech/B.E.   \n",
            "810601    325000      f         85.00          68.2  B.Tech/B.E.   \n",
            "267447   1100000      m         85.60          83.6  B.Tech/B.E.   \n",
            "343523    200000      m         78.00          76.8  B.Tech/B.E.   \n",
            "947847    300000      m         86.08          67.5  B.Tech/B.E.   \n",
            "912934    400000      m         92.00          91.0  B.Tech/B.E.   \n",
            "552574    600000      m         90.00          91.2  B.Tech/B.E.   \n",
            "1203363   230000      m         77.00          72.2  B.Tech/B.E.   \n",
            "87291     600000      m         88.60          83.7  B.Tech/B.E.   \n",
            "\n",
            "        Specialization  collegeGPA  English  Logical  Quant    Domain  \\\n",
            "ID                                                                      \n",
            "203097              CS       78.00      515      585    525  0.635979   \n",
            "579905              EC       70.06      695      610    780  0.960603   \n",
            "810601              CS       70.00      615      545    370  0.450877   \n",
            "267447              CS       74.64      635      585    625  0.974396   \n",
            "343523              EC       73.90      545      625    465  0.124502   \n",
            "947847              CS       72.98      590      435    380  0.356536   \n",
            "912934              ME       85.80      545      555    590  0.829585   \n",
            "552574              EC       85.03      615      670    530  0.694479   \n",
            "1203363             EC       78.00      605      565    545  0.493596   \n",
            "87291               CS       74.90      565      455    565  0.765674   \n",
            "\n",
            "         conscientiousness  agreeableness  extraversion  nueroticism  \\\n",
            "ID                                                                     \n",
            "203097              0.9737         0.8128        0.5269      1.35490   \n",
            "579905             -0.7335         0.3789        1.2396     -0.10760   \n",
            "810601              0.2718         1.7109        0.1637     -0.86820   \n",
            "267447              0.0464         0.3448       -0.3440     -0.40780   \n",
            "343523             -0.8810        -0.2793       -1.0697      0.09163   \n",
            "947847              1.7081        -0.1054       -1.0379     -2.00920   \n",
            "912934             -0.0154         1.2114        0.0100      0.14590   \n",
            "552574             -0.1590         0.5454       -0.6048     -0.74150   \n",
            "1203363            -1.3080         0.5454       -0.9122      0.90660   \n",
            "87291               0.0464         0.8128        0.0914      0.17980   \n",
            "\n",
            "         openess_to_experience  12GradAge  GradAge  \n",
            "ID                                                  \n",
            "203097                 -0.4455         17       21  \n",
            "579905                  0.8637         18       23  \n",
            "810601                  0.6721         18       22  \n",
            "267447                 -0.9194         18       22  \n",
            "343523                 -0.1295         17       21  \n",
            "947847                 -1.0872         17       21  \n",
            "912934                  1.2470         18       24  \n",
            "552574                 -0.2859         18       22  \n",
            "1203363                 0.0973         17       21  \n",
            "87291                   0.0284         17       21  \n",
            "        Salary Gender  10percentage  12percentage       Degree Specialization  \\\n",
            "ID                                                                              \n",
            "664736       ?      m         75.00         74.00  B.Tech/B.E.             EC   \n",
            "1123290      ?      m         83.00         75.00  B.Tech/B.E.             CS   \n",
            "1062444      ?      f         85.20         91.40  B.Tech/B.E.             CS   \n",
            "1072028      ?      f         81.80         80.80  B.Tech/B.E.             CS   \n",
            "267259       ?      m         78.00         78.00  B.Tech/B.E.             CS   \n",
            "283564       ?      m         87.00         68.40  B.Tech/B.E.             CS   \n",
            "1264575      ?      m         79.20         73.73  B.Tech/B.E.             EC   \n",
            "1091378      ?      m         67.00         73.00          MCA             CS   \n",
            "361658       ?      m         90.56         83.33  B.Tech/B.E.             ME   \n",
            "1119280      ?      f         73.80         74.00  B.Tech/B.E.             CS   \n",
            "\n",
            "         collegeGPA  English  Logical  Quant    Domain  conscientiousness  \\\n",
            "ID                                                                          \n",
            "664736        67.20      510      460    620  0.229482             0.2718   \n",
            "1123290       71.10      535      605    655  0.080055             0.7027   \n",
            "1062444       80.50      745      690    655  0.990009             0.1282   \n",
            "1072028       70.38      325      455    415  0.842248             0.4155   \n",
            "267259        71.00      475      395    435  0.864685             0.0464   \n",
            "283564        70.24      505      645    645  0.843124            -0.2628   \n",
            "1264575       70.90      395      520    560  0.649390            -2.7443   \n",
            "1091378       73.00      325      360    415  0.450877            -0.3027   \n",
            "361658        84.10      415      405    495  0.607034            -0.1082   \n",
            "1119280       77.00      385      495    415  0.864685             0.8463   \n",
            "\n",
            "         agreeableness  extraversion  nueroticism  openess_to_experience  \\\n",
            "ID                                                                         \n",
            "664736         -0.2871        0.4711      -0.7415                -0.4776   \n",
            "1123290         0.2124        1.2396      -0.8682                 1.0554   \n",
            "1062444         1.0449       -0.6048      -1.6289                -0.8608   \n",
            "1072028         1.0449       -0.6048       1.5404                 1.0554   \n",
            "267259          0.0328       -0.0537       0.0623                 0.6603   \n",
            "283564          0.3448        0.0914       0.7673                -0.4455   \n",
            "1264575         0.8784       -0.1437       0.2727                -0.0943   \n",
            "1091378         0.7119        1.2396      -0.2344                 0.8637   \n",
            "361658          0.9688        0.2729      -0.4078                -1.2354   \n",
            "1119280         0.7119        0.9322      -2.1360                 1.6302   \n",
            "\n",
            "         12GradAge  GradAge  \n",
            "ID                           \n",
            "664736          17       21  \n",
            "1123290         17       22  \n",
            "1062444         18       22  \n",
            "1072028         20       24  \n",
            "267259          17       21  \n",
            "283564          18       22  \n",
            "1264575         17       21  \n",
            "1091378         18       24  \n",
            "361658          18       22  \n",
            "1119280         18       22  \n"
          ]
        }
      ],
      "source": [
        "# Training Data Set\n",
        "data_train.drop([\"ComputerProgramming\", \"ElectronicsAndSemicon\", \"ComputerScience\", \"MechanicalEngg\", \"ElectricalEngg\", \"TelecomEngg\", \"CivilEngg\"], axis=1, inplace=True)\n",
        "data_train = data_train[data_train[\"Domain\"] > -1]\n",
        "print(data_train.head(10))\n",
        "\n",
        "\n",
        "#Test Data Set\n",
        "data2_test.drop([\"ComputerProgramming\", \"ElectronicsAndSemicon\", \"ComputerScience\", \"MechanicalEngg\", \"ElectricalEngg\", \"TelecomEngg\", \"CivilEngg\"], axis=1, inplace=True)\n",
        "data2_test = data2_test[data2_test[\"Domain\"] > -1]\n",
        "print(data2_test.head(10))\n"
      ]
    },
    {
      "cell_type": "markdown",
      "metadata": {
        "id": "klMhsHNy1rlB"
      },
      "source": [
        "Now print the information of the training and test datasets using the 'info' method.\n"
      ]
    },
    {
      "cell_type": "code",
      "execution_count": null,
      "metadata": {
        "id": "vf51zfMi1rlB",
        "colab": {
          "base_uri": "https://localhost:8080/"
        },
        "outputId": "eab6e2cd-baa6-40ab-daf4-b1af581fd93b"
      },
      "outputs": [
        {
          "output_type": "stream",
          "name": "stdout",
          "text": [
            "<class 'pandas.core.frame.DataFrame'>\n",
            "Index: 3752 entries, 203097 to 324966\n",
            "Data columns (total 18 columns):\n",
            " #   Column                 Non-Null Count  Dtype  \n",
            "---  ------                 --------------  -----  \n",
            " 0   Salary                 3752 non-null   int64  \n",
            " 1   Gender                 3752 non-null   object \n",
            " 2   10percentage           3752 non-null   float64\n",
            " 3   12percentage           3752 non-null   float64\n",
            " 4   Degree                 3752 non-null   object \n",
            " 5   Specialization         3752 non-null   object \n",
            " 6   collegeGPA             3752 non-null   float64\n",
            " 7   English                3752 non-null   int64  \n",
            " 8   Logical                3752 non-null   int64  \n",
            " 9   Quant                  3752 non-null   int64  \n",
            " 10  Domain                 3752 non-null   float64\n",
            " 11  conscientiousness      3752 non-null   float64\n",
            " 12  agreeableness          3752 non-null   float64\n",
            " 13  extraversion           3752 non-null   float64\n",
            " 14  nueroticism            3752 non-null   float64\n",
            " 15  openess_to_experience  3752 non-null   float64\n",
            " 16  12GradAge              3752 non-null   int64  \n",
            " 17  GradAge                3752 non-null   int64  \n",
            "dtypes: float64(9), int64(6), object(3)\n",
            "memory usage: 556.9+ KB\n",
            "<class 'pandas.core.frame.DataFrame'>\n",
            "Index: 1414 entries, 664736 to 1037308\n",
            "Data columns (total 18 columns):\n",
            " #   Column                 Non-Null Count  Dtype  \n",
            "---  ------                 --------------  -----  \n",
            " 0   Salary                 1414 non-null   object \n",
            " 1   Gender                 1414 non-null   object \n",
            " 2   10percentage           1414 non-null   float64\n",
            " 3   12percentage           1414 non-null   float64\n",
            " 4   Degree                 1414 non-null   object \n",
            " 5   Specialization         1412 non-null   object \n",
            " 6   collegeGPA             1414 non-null   float64\n",
            " 7   English                1414 non-null   int64  \n",
            " 8   Logical                1414 non-null   int64  \n",
            " 9   Quant                  1414 non-null   int64  \n",
            " 10  Domain                 1414 non-null   float64\n",
            " 11  conscientiousness      1414 non-null   float64\n",
            " 12  agreeableness          1414 non-null   float64\n",
            " 13  extraversion           1414 non-null   float64\n",
            " 14  nueroticism            1414 non-null   float64\n",
            " 15  openess_to_experience  1414 non-null   float64\n",
            " 16  12GradAge              1414 non-null   int64  \n",
            " 17  GradAge                1414 non-null   int64  \n",
            "dtypes: float64(9), int64(5), object(4)\n",
            "memory usage: 209.9+ KB\n"
          ]
        }
      ],
      "source": [
        "# write your code\n",
        "data_train.info()\n",
        "\n",
        "data2_test.info()"
      ]
    },
    {
      "cell_type": "markdown",
      "metadata": {
        "id": "rgv9SMBe1rlB"
      },
      "source": [
        "From the information, we can see that in test dataset, 'Specialization' column has 2 null values. Remove the rows with null values in the 'Specialization' column from the test dataset.\n"
      ]
    },
    {
      "cell_type": "code",
      "execution_count": null,
      "metadata": {
        "id": "_24gPSMI1rlB"
      },
      "outputs": [],
      "source": [
        "# Testing Data set:\n",
        "\n",
        "data2_test = data2_test[data2_test[\"Specialization\"].notna()]"
      ]
    },
    {
      "cell_type": "markdown",
      "metadata": {
        "id": "IG9ET5Xx1rlB"
      },
      "source": [
        "We are left with the following columns in the dataset:\n",
        "\n",
        "- Salary: Target\n",
        "- Gender: Categorical Feature\n",
        "- 10percentage: Numerical Feature\n",
        "- 12percentage: Numerical Feature\n",
        "- Degree: Categorical Feature\n",
        "- Specialization: Categorical Feature\n",
        "- collegeGPA: Numerical Feature\n",
        "- English: Numerical Feature\n",
        "- Logical: Numerical Feature\n",
        "- Quant: Numerical Feature\n",
        "- Domain: Numerical Feature\n",
        "- conscientiousness: Numerical Feature\n",
        "- agreeableness: Numerical Feature\n",
        "- extraversion: Numerical Feature\n",
        "- nueroticism: Numerical Feature\n",
        "- openess_to_experience: Numerical Feature\n",
        "- 12GradAge: Numerical Feature\n",
        "- GradAge: Numerical Feature\n",
        "\n",
        "3 categorical features and 14 numerical features.\n"
      ]
    },
    {
      "cell_type": "markdown",
      "metadata": {
        "id": "vMhigZE-1rlB"
      },
      "source": [
        "Drop 'Salary' column from the test dataset as it contains nothing but '?' values.\n"
      ]
    },
    {
      "cell_type": "code",
      "execution_count": null,
      "metadata": {
        "id": "ZYP8PpJa1rlC",
        "colab": {
          "base_uri": "https://localhost:8080/"
        },
        "outputId": "4357db35-b5be-4297-aa5f-b114248e12f0"
      },
      "outputs": [
        {
          "output_type": "stream",
          "name": "stdout",
          "text": [
            "<class 'pandas.core.frame.DataFrame'>\n",
            "Index: 1412 entries, 664736 to 1037308\n",
            "Data columns (total 17 columns):\n",
            " #   Column                 Non-Null Count  Dtype  \n",
            "---  ------                 --------------  -----  \n",
            " 0   Gender                 1412 non-null   object \n",
            " 1   10percentage           1412 non-null   float64\n",
            " 2   12percentage           1412 non-null   float64\n",
            " 3   Degree                 1412 non-null   object \n",
            " 4   Specialization         1412 non-null   object \n",
            " 5   collegeGPA             1412 non-null   float64\n",
            " 6   English                1412 non-null   int64  \n",
            " 7   Logical                1412 non-null   int64  \n",
            " 8   Quant                  1412 non-null   int64  \n",
            " 9   Domain                 1412 non-null   float64\n",
            " 10  conscientiousness      1412 non-null   float64\n",
            " 11  agreeableness          1412 non-null   float64\n",
            " 12  extraversion           1412 non-null   float64\n",
            " 13  nueroticism            1412 non-null   float64\n",
            " 14  openess_to_experience  1412 non-null   float64\n",
            " 15  12GradAge              1412 non-null   int64  \n",
            " 16  GradAge                1412 non-null   int64  \n",
            "dtypes: float64(9), int64(5), object(3)\n",
            "memory usage: 198.6+ KB\n"
          ]
        }
      ],
      "source": [
        "# Testing data\n",
        "\n",
        "data2_test.drop(\"Salary\", axis=1, inplace=True)\n",
        "data2_test.info()\n"
      ]
    },
    {
      "cell_type": "markdown",
      "metadata": {
        "id": "1r-UALvs1rlC"
      },
      "source": [
        "Check for outliers in the numerical columns using the 'boxplot'. We are doing it only for the 'Salary' column. You can do it for other columns as well and remove the outliers if you want.\n"
      ]
    },
    {
      "cell_type": "code",
      "execution_count": null,
      "metadata": {
        "id": "cBQRSe3d1rlC",
        "colab": {
          "base_uri": "https://localhost:8080/",
          "height": 426
        },
        "outputId": "fd3952df-0dd1-49f7-c44b-7f8635416942"
      },
      "outputs": [
        {
          "output_type": "display_data",
          "data": {
            "text/plain": [
              "<Figure size 640x480 with 1 Axes>"
            ],
            "image/png": "[encoded data removed]"
          },
          "metadata": {}
        }
      ],
      "source": [
        "# Training Data\n",
        "sns.boxplot(data_train[\"Salary\"])\n",
        "plt.show()"
      ]
    },
    {
      "cell_type": "markdown",
      "metadata": {
        "id": "0jYEvKQ-1rlC"
      },
      "source": [
        "Salary > 10,00,000 is rare, especially in the first job. From the boxplot, this is also evident. We can remove the data points where Salary > 10,00,000 from the training dataset.\n"
      ]
    },
    {
      "cell_type": "code",
      "execution_count": null,
      "metadata": {
        "id": "m_Y3TgY61rlI",
        "colab": {
          "base_uri": "https://localhost:8080/",
          "height": 411
        },
        "outputId": "4a96cc6d-cb43-4457-c7a7-c3addfa89886"
      },
      "outputs": [
        {
          "output_type": "display_data",
          "data": {
            "text/plain": [
              "<Figure size 640x480 with 1 Axes>"
            ],
            "image/png": "[encoded data removed]"
          },
          "metadata": {}
        }
      ],
      "source": [
        "# Training Data Set\n",
        "\n",
        "data_train = data_train[data_train[\"Salary\"] < 1000000]\n",
        "\n",
        "sns.boxplot(data_train[\"Salary\"])\n",
        "plt.show()\n"
      ]
    },
    {
      "cell_type": "markdown",
      "metadata": {
        "id": "AqbEUDP11rlI"
      },
      "source": [
        "#### **Data preprocessing**\n",
        "\n",
        "Now, we will preprocess the data before feeding it to the model. We can't feed the categorical data directly to the model. We need to encode the categorical columns and scale the numerical columns. We will use the 'One Hot Encoding' and 'Label Encoding' to encode the categorical columns and 'Standard Scaler' to scale the numerical columns.\n",
        "\n",
        "- 'Label Encoding' is used to encode the categorical columns by assigning a unique integer to each category. This technique is useful if the number of categories is less. If the number of categories is more, let's say 5 then we may use 0 to 4 to encode the categories. But the has some problem, though we assigned the integers randomly, the model may assume that the categories have some kind of order or hierarchy. To avoid this, we use 'OneHot Encoding'.\n",
        "- 'One Hot Encoding' is used to encode the categorical columns by creating a separate column for each category and assigning 1 or 0 to the columns. This technique is useful if the number of categories is more.\n",
        "\n",
        "We will use 'LabelEncoder' to encode the 'Gender' and pandas 'get_dummies' method to encode the 'Degree' and 'Specialization' columns in one hot encoding. We will use 'StandardScaler' to scale the numerical columns. All these encoders are available in the 'sklearn.preprocessing' module. import them and use them to preprocess the data.\n"
      ]
    },
    {
      "cell_type": "code",
      "execution_count": null,
      "metadata": {
        "id": "xInxuS6c1rlI",
        "colab": {
          "base_uri": "https://localhost:8080/"
        },
        "outputId": "d76e9381-ed67-42a1-c6e4-89651a28a871"
      },
      "outputs": [
        {
          "output_type": "stream",
          "name": "stdout",
          "text": [
            "<class 'pandas.core.frame.DataFrame'>\n",
            "Index: 3715 entries, 203097 to 324966\n",
            "Data columns (total 26 columns):\n",
            " #   Column                 Non-Null Count  Dtype  \n",
            "---  ------                 --------------  -----  \n",
            " 0   Salary                 3715 non-null   int64  \n",
            " 1   Gender                 3715 non-null   int64  \n",
            " 2   10percentage           3715 non-null   float64\n",
            " 3   12percentage           3715 non-null   float64\n",
            " 4   collegeGPA             3715 non-null   float64\n",
            " 5   English                3715 non-null   int64  \n",
            " 6   Logical                3715 non-null   int64  \n",
            " 7   Quant                  3715 non-null   int64  \n",
            " 8   Domain                 3715 non-null   float64\n",
            " 9   conscientiousness      3715 non-null   float64\n",
            " 10  agreeableness          3715 non-null   float64\n",
            " 11  extraversion           3715 non-null   float64\n",
            " 12  nueroticism            3715 non-null   float64\n",
            " 13  openess_to_experience  3715 non-null   float64\n",
            " 14  12GradAge              3715 non-null   int64  \n",
            " 15  GradAge                3715 non-null   int64  \n",
            " 16  Degree_B.Tech/B.E.     3715 non-null   bool   \n",
            " 17  Degree_M.Sc. (Tech.)   3715 non-null   bool   \n",
            " 18  Degree_M.Tech./M.E.    3715 non-null   bool   \n",
            " 19  Degree_MCA             3715 non-null   bool   \n",
            " 20  Specialization_CE      3715 non-null   bool   \n",
            " 21  Specialization_CS      3715 non-null   bool   \n",
            " 22  Specialization_EC      3715 non-null   bool   \n",
            " 23  Specialization_EL      3715 non-null   bool   \n",
            " 24  Specialization_ME      3715 non-null   bool   \n",
            " 25  Specialization_other   3715 non-null   bool   \n",
            "dtypes: bool(10), float64(9), int64(7)\n",
            "memory usage: 529.7 KB\n",
            "         Salary  Gender  10percentage  12percentage  collegeGPA  English  \\\n",
            "ID                                                                         \n",
            "203097   420000       0         84.30          95.8       78.00      515   \n",
            "579905   500000       1         85.40          85.0       70.06      695   \n",
            "810601   325000       0         85.00          68.2       70.00      615   \n",
            "343523   200000       1         78.00          76.8       73.90      545   \n",
            "947847   300000       1         86.08          67.5       72.98      590   \n",
            "912934   400000       1         92.00          91.0       85.80      545   \n",
            "552574   600000       1         90.00          91.2       85.03      615   \n",
            "1203363  230000       1         77.00          72.2       78.00      605   \n",
            "87291    600000       1         88.60          83.7       74.90      565   \n",
            "190393   450000       1         81.00          86.0       72.29      495   \n",
            "\n",
            "         Logical  Quant    Domain  conscientiousness  ...  Degree_B.Tech/B.E.  \\\n",
            "ID                                                    ...                       \n",
            "203097       585    525  0.635979             0.9737  ...                   1   \n",
            "579905       610    780  0.960603            -0.7335  ...                   1   \n",
            "810601       545    370  0.450877             0.2718  ...                   1   \n",
            "343523       625    465  0.124502            -0.8810  ...                   1   \n",
            "947847       435    380  0.356536             1.7081  ...                   1   \n",
            "912934       555    590  0.829585            -0.0154  ...                   1   \n",
            "552574       670    530  0.694479            -0.1590  ...                   1   \n",
            "1203363      565    545  0.493596            -1.3080  ...                   1   \n",
            "87291        455    565  0.765674             0.0464  ...                   1   \n",
            "190393       605    715  0.968237            -2.2720  ...                   1   \n",
            "\n",
            "         Degree_M.Sc. (Tech.)  Degree_M.Tech./M.E.  Degree_MCA  \\\n",
            "ID                                                               \n",
            "203097                      0                    0           0   \n",
            "579905                      0                    0           0   \n",
            "810601                      0                    0           0   \n",
            "343523                      0                    0           0   \n",
            "947847                      0                    0           0   \n",
            "912934                      0                    0           0   \n",
            "552574                      0                    0           0   \n",
            "1203363                     0                    0           0   \n",
            "87291                       0                    0           0   \n",
            "190393                      0                    0           0   \n",
            "\n",
            "         Specialization_CE  Specialization_CS  Specialization_EC  \\\n",
            "ID                                                                 \n",
            "203097                   0                  1                  0   \n",
            "579905                   0                  0                  1   \n",
            "810601                   0                  1                  0   \n",
            "343523                   0                  0                  1   \n",
            "947847                   0                  1                  0   \n",
            "912934                   0                  0                  0   \n",
            "552574                   0                  0                  1   \n",
            "1203363                  0                  0                  1   \n",
            "87291                    0                  1                  0   \n",
            "190393                   0                  1                  0   \n",
            "\n",
            "         Specialization_EL  Specialization_ME  Specialization_other  \n",
            "ID                                                                   \n",
            "203097                   0                  0                     0  \n",
            "579905                   0                  0                     0  \n",
            "810601                   0                  0                     0  \n",
            "343523                   0                  0                     0  \n",
            "947847                   0                  0                     0  \n",
            "912934                   0                  1                     0  \n",
            "552574                   0                  0                     0  \n",
            "1203363                  0                  0                     0  \n",
            "87291                    0                  0                     0  \n",
            "190393                   0                  0                     0  \n",
            "\n",
            "[10 rows x 26 columns]\n",
            "         Salary  Gender  10percentage  12percentage  collegeGPA   English  \\\n",
            "ID                                                                          \n",
            "203097   420000       0      0.649367      1.947219    0.852833  0.139499   \n",
            "579905   500000       1      0.761043      0.964034   -0.222705  1.859002   \n",
            "810601   325000       0      0.720434     -0.565367   -0.230832  1.094779   \n",
            "343523   200000       1      0.009764      0.217541    0.297455  0.426083   \n",
            "947847   300000       1      0.830080     -0.629092    0.172833  0.855959   \n",
            "912934   400000       1      1.431104      1.510248    1.909407  0.426083   \n",
            "552574   600000       1      1.228055      1.528455    1.805105  1.094779   \n",
            "1203363  230000       1     -0.091761     -0.201224    0.852833  0.999251   \n",
            "87291    600000       1      1.085921      0.845687    0.432913  0.617139   \n",
            "190393   450000       1      0.314336      1.055069    0.079367 -0.051557   \n",
            "\n",
            "          Logical     Quant    Domain  conscientiousness  ...  \\\n",
            "ID                                                        ...   \n",
            "203097   0.965687  0.091334  0.099083           0.993699  ...   \n",
            "579905   1.254017  2.181100  1.286923          -0.668811  ...   \n",
            "810601   0.504359 -1.178917 -0.578228           0.310173  ...   \n",
            "343523   1.427015 -0.400376 -1.772471          -0.812450  ...   \n",
            "947847  -0.764293 -1.096965 -0.923429           1.708874  ...   \n",
            "912934   0.619691  0.624019  0.807510           0.030491  ...   \n",
            "552574   1.946009  0.132309  0.313144          -0.109350  ...   \n",
            "1203363  0.735023  0.255237 -0.421911          -1.228272  ...   \n",
            "87291   -0.533629  0.419140  0.573652           0.090673  ...   \n",
            "190393   1.196351  1.648415  1.314857          -2.167037  ...   \n",
            "\n",
            "         Degree_B.Tech/B.E.  Degree_M.Sc. (Tech.)  Degree_M.Tech./M.E.  \\\n",
            "ID                                                                       \n",
            "203097                    1                     0                    0   \n",
            "579905                    1                     0                    0   \n",
            "810601                    1                     0                    0   \n",
            "343523                    1                     0                    0   \n",
            "947847                    1                     0                    0   \n",
            "912934                    1                     0                    0   \n",
            "552574                    1                     0                    0   \n",
            "1203363                   1                     0                    0   \n",
            "87291                     1                     0                    0   \n",
            "190393                    1                     0                    0   \n",
            "\n",
            "         Degree_MCA  Specialization_CE  Specialization_CS  Specialization_EC  \\\n",
            "ID                                                                             \n",
            "203097            0                  0                  1                  0   \n",
            "579905            0                  0                  0                  1   \n",
            "810601            0                  0                  1                  0   \n",
            "343523            0                  0                  0                  1   \n",
            "947847            0                  0                  1                  0   \n",
            "912934            0                  0                  0                  0   \n",
            "552574            0                  0                  0                  1   \n",
            "1203363           0                  0                  0                  1   \n",
            "87291             0                  0                  1                  0   \n",
            "190393            0                  0                  1                  0   \n",
            "\n",
            "         Specialization_EL  Specialization_ME  Specialization_other  \n",
            "ID                                                                   \n",
            "203097                   0                  0                     0  \n",
            "579905                   0                  0                     0  \n",
            "810601                   0                  0                     0  \n",
            "343523                   0                  0                     0  \n",
            "947847                   0                  0                     0  \n",
            "912934                   0                  1                     0  \n",
            "552574                   0                  0                     0  \n",
            "1203363                  0                  0                     0  \n",
            "87291                    0                  0                     0  \n",
            "190393                   0                  0                     0  \n",
            "\n",
            "[10 rows x 26 columns]\n",
            "<class 'pandas.core.frame.DataFrame'>\n",
            "Index: 3715 entries, 203097 to 324966\n",
            "Data columns (total 26 columns):\n",
            " #   Column                 Non-Null Count  Dtype  \n",
            "---  ------                 --------------  -----  \n",
            " 0   Salary                 3715 non-null   int64  \n",
            " 1   Gender                 3715 non-null   int64  \n",
            " 2   10percentage           3715 non-null   float64\n",
            " 3   12percentage           3715 non-null   float64\n",
            " 4   collegeGPA             3715 non-null   float64\n",
            " 5   English                3715 non-null   float64\n",
            " 6   Logical                3715 non-null   float64\n",
            " 7   Quant                  3715 non-null   float64\n",
            " 8   Domain                 3715 non-null   float64\n",
            " 9   conscientiousness      3715 non-null   float64\n",
            " 10  agreeableness          3715 non-null   float64\n",
            " 11  extraversion           3715 non-null   float64\n",
            " 12  nueroticism            3715 non-null   float64\n",
            " 13  openess_to_experience  3715 non-null   float64\n",
            " 14  12GradAge              3715 non-null   float64\n",
            " 15  GradAge                3715 non-null   float64\n",
            " 16  Degree_B.Tech/B.E.     3715 non-null   int64  \n",
            " 17  Degree_M.Sc. (Tech.)   3715 non-null   int64  \n",
            " 18  Degree_M.Tech./M.E.    3715 non-null   int64  \n",
            " 19  Degree_MCA             3715 non-null   int64  \n",
            " 20  Specialization_CE      3715 non-null   int64  \n",
            " 21  Specialization_CS      3715 non-null   int64  \n",
            " 22  Specialization_EC      3715 non-null   int64  \n",
            " 23  Specialization_EL      3715 non-null   int64  \n",
            " 24  Specialization_ME      3715 non-null   int64  \n",
            " 25  Specialization_other   3715 non-null   int64  \n",
            "dtypes: float64(14), int64(12)\n",
            "memory usage: 783.6 KB\n"
          ]
        }
      ],
      "source": [
        "# Training Data\n",
        "from sklearn.preprocessing import LabelEncoder, StandardScaler, MinMaxScaler\n",
        "\n",
        "label_encoder = LabelEncoder()\n",
        "data_train[\"Gender\"] = label_encoder.fit_transform(data_train[\"Gender\"])\n",
        "\n",
        "\n",
        "# print(data_train.head(10))\n",
        "\n",
        "data_train = pd.get_dummies(data_train, columns=['Degree', 'Specialization'])\n",
        "data_train.info()\n",
        "\n",
        "columns_list = ['Degree_B.Tech/B.E.', 'Degree_M.Sc. (Tech.)', 'Degree_M.Tech./M.E.', 'Degree_MCA', 'Specialization_CE', 'Specialization_CS', 'Specialization_EC', 'Specialization_EL', 'Specialization_ME', 'Specialization_other']\n",
        "\n",
        "data_train[columns_list] = data_train[columns_list].replace({True: 1, False: 0})\n",
        "\n",
        "\n",
        "print(data_train.head(10))\n",
        "\n",
        "#Using StandardScaler:\n",
        "\n",
        "numerical_cols = ['10percentage', '12percentage', 'collegeGPA', 'English', 'Logical',\n",
        "                  'Quant', 'Domain', 'conscientiousness', 'agreeableness', 'extraversion',\n",
        "                  'nueroticism', 'openess_to_experience', '12GradAge', 'GradAge']\n",
        "scaler = StandardScaler()\n",
        "data_train[numerical_cols] = scaler.fit_transform(data_train[numerical_cols])\n",
        "\n",
        "\n",
        "print(data_train.head(10))\n",
        "\n",
        "data_train.info()"
      ]
    },
    {
      "cell_type": "markdown",
      "metadata": {
        "id": "n9GSZKaa1rlI"
      },
      "source": [
        "#### **Feature Selection**\n",
        "\n",
        "Now the dataset is ready for the model. But before that, we need to select the features that are important for the model. You can use the 'Correlation Matrix' to find the correlation between the features and the target variable and select the features that have a high correlation with the target variable.\n",
        "\n",
        "There are other methods to select the features like 'SelectKBest', 'SelectPercentile', 'RFE', 'RFECV', etc. You can use any of these methods to select the features. See the documentation of the 'sklearn.feature_selection' module for more information.\n",
        "\n",
        "[Note: Bonus credits will be given if you can report which features are the best predictors of the First job annual salary.]\n"
      ]
    },
    {
      "cell_type": "code",
      "source": [
        "X = data_train[['Gender', '10percentage', '12percentage', 'collegeGPA', 'English', 'Logical', 'Quant', 'Domain', 'conscientiousness', 'agreeableness', 'extraversion', 'nueroticism', 'openess_to_experience', '12GradAge', 'GradAge', 'Degree_B.Tech/B.E.', 'Degree_M.Sc. (Tech.)', 'Degree_M.Tech./M.E.', 'Degree_MCA', 'Specialization_CE', 'Specialization_CS', 'Specialization_EC', 'Specialization_EL', 'Specialization_ME', 'Specialization_other']]\n",
        "y = data_train['Salary']\n"
      ],
      "metadata": {
        "id": "fb1han9t00sk"
      },
      "execution_count": null,
      "outputs": []
    },
    {
      "cell_type": "code",
      "execution_count": null,
      "metadata": {
        "id": "sJSOvB3z1rlI",
        "colab": {
          "base_uri": "https://localhost:8080/"
        },
        "outputId": "56dcbb1f-1e8a-4691-a7a3-fadba59464d7"
      },
      "outputs": [
        {
          "output_type": "stream",
          "name": "stdout",
          "text": [
            "['Salary', '10percentage', '12percentage', 'collegeGPA', 'English', 'Logical', 'Quant', 'Domain']\n",
            "Selected Features: Index(['10percentage', '12percentage', 'collegeGPA', 'English', 'Logical',\n",
            "       'Quant', 'Domain'],\n",
            "      dtype='object')\n"
          ]
        }
      ],
      "source": [
        "# # Using the Correlation Matrix\n",
        "\n",
        "corr_matrix = data_train.corr()\n",
        "\n",
        "# print(corr_matrix)\n",
        "\n",
        "threashhold = 0.1\n",
        "\n",
        "features = corr_matrix.index[abs(corr_matrix['Salary']) > threashhold].tolist()\n",
        "\n",
        "print(features)\n",
        "# print(data_train.head(10))\n",
        "\n",
        "\n",
        "# print()\n",
        "#Using SelectKbest\n",
        "from sklearn.feature_selection import SelectKBest, f_regression\n",
        "from sklearn.compose import ColumnTransformer\n",
        "\n",
        "k = 7\n",
        "selector = SelectKBest(score_func=f_regression, k=k)\n",
        "selector.fit(X, y.values.ravel())\n",
        "selected_indices = selector.get_support(indices=True)\n",
        "selected_features = X.columns[selected_indices]\n",
        "X_filtered = X.iloc[:, selected_indices]\n",
        "print(\"Selected Features:\", selected_features)\n",
        "\n",
        "\n",
        "\n",
        "\n",
        "\n",
        "# #Using RFE\n",
        "# from sklearn.feature_selection import RFE\n",
        "# from sklearn.linear_model import LogisticRegression\n",
        "# # X_rfe = data_train.drop(columns=['Salary'])\n",
        "\n",
        "# X_rfe = data_train[['Gender', '10percentage', '12percentage', 'collegeGPA', 'English', 'Logical', 'Quant', 'Domain', 'openess_to_experience', '12GradAge', 'GradAge']]\n",
        "# y = data_train['Salary']\n",
        "\n",
        "# model1 = LogisticRegression()\n",
        "# rfe = RFE(model1, n_features_to_select=6)\n",
        "# fit = rfe.fit(X_rfe, y)\n",
        "\n",
        "# selected_features = X_rfe.columns[fit.support_].tolist()\n",
        "\n",
        "# print(*selected_features)\n",
        "\n"
      ]
    },
    {
      "cell_type": "markdown",
      "metadata": {
        "id": "M-DaG7fx1rlI"
      },
      "source": [
        "#### **Split the data**\n",
        "\n",
        "After selecting the features, split the data into training and validation sets using the 'train_test_split' method. Use 20% of the data for validation.\n"
      ]
    },
    {
      "cell_type": "code",
      "source": [
        "X = data_train[['Gender', '10percentage', '12percentage', 'collegeGPA', 'English', 'Logical', 'Quant', 'Domain', 'conscientiousness', 'agreeableness', 'extraversion', 'nueroticism', 'openess_to_experience', '12GradAge', 'GradAge', 'Degree_B.Tech/B.E.', 'Degree_M.Sc. (Tech.)', 'Degree_M.Tech./M.E.', 'Degree_MCA', 'Specialization_CE', 'Specialization_CS', 'Specialization_EC', 'Specialization_EL', 'Specialization_ME', 'Specialization_other']]\n",
        "y = data_train['Salary']\n"
      ],
      "metadata": {
        "id": "4Ok7BUk3t9sx"
      },
      "execution_count": null,
      "outputs": []
    },
    {
      "cell_type": "code",
      "execution_count": null,
      "metadata": {
        "id": "DktFRDZ41rlI"
      },
      "outputs": [],
      "source": [
        "from sklearn.model_selection import train_test_split\n",
        "\n",
        "x = data_train[['10percentage', '12percentage', 'collegeGPA', 'English', 'Logical', 'Quant', 'Domain']]\n",
        "y = data_train['Salary']\n",
        "\n",
        "x_train, x_val, y_train, y_val = train_test_split(x, y, test_size=0.2)"
      ]
    },
    {
      "cell_type": "markdown",
      "metadata": {
        "id": "CtB2tMY01rlI"
      },
      "source": [
        "#### **Model Selection**\n",
        "\n",
        "Now, we will select the model that best fits the data. You should try different models and select the one that gives the best performance. You can use the 'Linear Regression', 'Decision Tree', 'Random Forest', 'XGBoost', etc. models to predict the salary.\n",
        "\n",
        "You can use sklearn's 'cross_val_score' method to find the cross-validation score of multiple models and select the best model.\n"
      ]
    },
    {
      "cell_type": "code",
      "execution_count": null,
      "metadata": {
        "id": "9m4vQOOR1rlI",
        "colab": {
          "base_uri": "https://localhost:8080/",
          "height": 1000
        },
        "outputId": "d54dee02-acfc-4b2f-ff76-35ca76933757"
      },
      "outputs": [
        {
          "output_type": "display_data",
          "data": {
            "text/plain": [
              "<Figure size 640x480 with 1 Axes>"
            ],
            "image/png": "[encoded data removed]"
          },
          "metadata": {}
        },
        {
          "output_type": "stream",
          "name": "stdout",
          "text": [
            "Cross val Score:  [-1.51113778e+10 -1.57722912e+10 -1.57375016e+10 -1.55968400e+10\n",
            " -1.70631556e+10]\n"
          ]
        },
        {
          "output_type": "display_data",
          "data": {
            "text/plain": [
              "<Figure size 640x480 with 1 Axes>"
            ],
            "image/png": "[encoded data removed]"
          },
          "metadata": {}
        },
        {
          "output_type": "stream",
          "name": "stdout",
          "text": [
            "Cross val Score:  [-3.35020861e+10 -3.31812463e+10 -3.33235195e+10 -3.16177658e+10\n",
            " -3.29693809e+10]\n"
          ]
        },
        {
          "output_type": "display_data",
          "data": {
            "text/plain": [
              "<Figure size 640x480 with 1 Axes>"
            ],
            "image/png": "[encoded data removed]"
          },
          "metadata": {}
        },
        {
          "output_type": "stream",
          "name": "stdout",
          "text": [
            "Cross val Score:  [-3.44739569e+10 -3.39220808e+10 -3.30936070e+10 -3.24777254e+10\n",
            " -3.30835801e+10]\n",
            "\n"
          ]
        }
      ],
      "source": [
        "# LinearRegression\n",
        "from sklearn.linear_model import LinearRegression\n",
        "from sklearn.model_selection import cross_val_score\n",
        "model1 = LinearRegression()\n",
        "model1.fit(x_train, y_train)\n",
        "# print(model1.coef_)\n",
        "# print(model1.intercept_)\n",
        "\n",
        "y_predict = model1.predict(x_val)\n",
        "sns.lineplot(y_val.values, legend=True, label= \"Actual\")\n",
        "sns.lineplot(y_predict, legend=True, label=\"Predict\")\n",
        "plt.show()\n",
        "\n",
        "scores1 = cross_val_score(model1, X, y, cv=5, scoring='neg_mean_squared_error')\n",
        "\n",
        "print(\"Cross val Score: \", scores1)\n",
        "\n",
        "\n",
        "\n",
        "#DicisionTreeRegressor\n",
        "from sklearn.tree import DecisionTreeRegressor\n",
        "\n",
        "model2 = DecisionTreeRegressor()\n",
        "model2.fit(x_train, y_train)\n",
        "y_predict2 = model2.predict(x_val)\n",
        "sns.lineplot(y_val.values, legend=True, label= \"Actual\")\n",
        "sns.lineplot(y_predict2, legend=True, label=\"Predict\")\n",
        "plt.show()\n",
        "\n",
        "scores2 = cross_val_score(model2, X, y, cv=5, scoring='neg_mean_squared_error')\n",
        "\n",
        "print(\"Cross val Score: \", scores2)\n",
        "\n",
        "\n",
        "#RandomForest\n",
        "\n",
        "from sklearn.ensemble import RandomForestRegressor\n",
        "\n",
        "model3 = RandomForestRegressor()\n",
        "model3.fit(x_train, y_train)\n",
        "y_predict3 = model3.predict(x_val)\n",
        "\n",
        "sns.lineplot(y_val.values, legend=True, label=\"Actual\")\n",
        "sns.lineplot(y_predict3, legend=True, label=\"Actual\")\n",
        "plt.show()\n",
        "\n",
        "scores2 = cross_val_score(model2, X, y, cv=5, scoring='neg_mean_squared_error')\n",
        "\n",
        "print(\"Cross val Score: \", scores2)\n",
        "\n",
        "\n",
        "print()"
      ]
    },
    {
      "cell_type": "markdown",
      "metadata": {
        "id": "zM7poX_M1rlI"
      },
      "source": [
        "#### **Model Evaluation**\n",
        "\n",
        "After selecting the model, evaluate the model using the validation set. You can use 'mean_squared_error', 'mean_absolute_error', 'r2_score', etc. to evaluate the model.\n"
      ]
    },
    {
      "cell_type": "code",
      "execution_count": null,
      "metadata": {
        "id": "iuayaAPL1rlI",
        "colab": {
          "base_uri": "https://localhost:8080/"
        },
        "outputId": "f6705121-d692-4607-fef9-9f5e090b4c35"
      },
      "outputs": [
        {
          "output_type": "stream",
          "name": "stdout",
          "text": [
            "r2 score:  0.20506359708295918\n",
            "r2 score:  -0.7473053807752714\n",
            "r2 score:  0.1239642467952825\n",
            "\n",
            "Mean Squared Error: 16599425627.564425\n",
            "Mean Suqared Error:  36486271870.794075\n",
            "Mean Squared Error:  18292897745.087482\n",
            "\n",
            "Mean Absolute Error 97872.16673745385\n",
            "Mean Absolute Error 143728.12920592193\n",
            "Mean Absolute Error 103435.7200538358\n"
          ]
        }
      ],
      "source": [
        "# r2_score\n",
        "\n",
        "#LinearRegression\n",
        "from sklearn.metrics import r2_score\n",
        "\n",
        "r2 = r2_score(y_val, y_predict)\n",
        "print(\"r2 score: \",r2)\n",
        "\n",
        "#DecisionTree\n",
        "\n",
        "r2_2 = r2_score(y_val, y_predict2)\n",
        "print(\"r2 score: \",r2_2)\n",
        "\n",
        "#RandomForest\n",
        "r2_3 = r2_score(y_val, y_predict3)\n",
        "print(\"r2 score: \",r2_3)\n",
        "\n",
        "print()\n",
        "#mean_squared\n",
        "\n",
        "\n",
        "#LinearRegression\n",
        "from sklearn.metrics import mean_squared_error\n",
        "\n",
        "mse1 = mean_squared_error(y_val, y_predict)\n",
        "print(\"Mean Squared Error:\", mse1)\n",
        "\n",
        "\n",
        "#DecisionTree\n",
        "mse2 = mean_squared_error(y_val, y_predict2)\n",
        "print(\"Mean Suqared Error: \", mse2)\n",
        "\n",
        "#RandomForest\n",
        "mse3 = mean_squared_error(y_val, y_predict3)\n",
        "print(\"Mean Squared Error: \", mse3)\n",
        "\n",
        "print()\n",
        "\n",
        "\n",
        "#mean_absolute_error\n",
        "from sklearn.metrics import mean_absolute_error\n",
        "\n",
        "\n",
        "#LinearRegression\n",
        "mae1 = mean_absolute_error(y_val, y_predict)\n",
        "print(\"Mean Absolute Error\", mae1)\n",
        "\n",
        "#DecisionTree\n",
        "mae2 = mean_absolute_error(y_val, y_predict2)\n",
        "print(\"Mean Absolute Error\", mae2)\n",
        "\n",
        "\n",
        "#Random Forest\n",
        "mae3 = mean_absolute_error(y_val, y_predict3)\n",
        "print(\"Mean Absolute Error\", mae3)"
      ]
    },
    {
      "cell_type": "code",
      "source": [],
      "metadata": {
        "id": "ynoT_4-UPtU1"
      },
      "execution_count": null,
      "outputs": []
    }
  ],
  "metadata": {
    "kernelspec": {
      "display_name": "ml",
      "language": "python",
      "name": "python3"
    },
    "language_info": {
      "codemirror_mode": {
        "name": "ipython",
        "version": 3
      },
      "file_extension": ".py",
      "mimetype": "text/x-python",
      "name": "python",
      "nbconvert_exporter": "python",
      "pygments_lexer": "ipython3",
      "version": "3.10.9"
    },
    "colab": {
      "provenance": []
    }
  },
  "nbformat": 4,
  "nbformat_minor": 0
}